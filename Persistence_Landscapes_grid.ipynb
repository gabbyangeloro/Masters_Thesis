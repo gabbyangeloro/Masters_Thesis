{
 "cells": [
  {
   "cell_type": "code",
   "execution_count": 31,
   "metadata": {},
   "outputs": [],
   "source": [
    "# Using Ripser\n",
    "\n",
    "import numpy as np\n",
    "from ripser import ripser\n",
    "from persim import plot_diagrams\n",
    "import operator\n",
    "import timeit"
   ]
  },
  {
   "cell_type": "markdown",
   "metadata": {},
   "source": [
    "## Persistence Landscapes: Algorithm 1"
   ]
  },
  {
   "cell_type": "markdown",
   "metadata": {},
   "source": [
    "#### Define L as list"
   ]
  },
  {
   "cell_type": "code",
   "execution_count": 67,
   "metadata": {},
   "outputs": [],
   "source": [
    "def PersistenceLanscape1(A):\n",
    "    #L = np.array([])\n",
    "    L = []\n",
    "    k = 0\n",
    "\n",
    "    # Sort A: read from right to left inside ()\n",
    "    ind =  np.lexsort((-A[:,1], A[:,0])) \n",
    "    A = A[ind]\n",
    "\n",
    "    while len(A) != 0:\n",
    "\n",
    "        # pop first term\n",
    "        bd, A = A[0], A[1:len(A)] \n",
    "        b, d = bd\n",
    "\n",
    "\n",
    "        #L = np.extend(L, np.array([[-np.inf, 0], [b, 0], [(b+d)/2, (d-b)/2]]) ) # outer brackets for start of L_k\n",
    "        L.append([ [-np.inf, 0], [b, 0], [(b+d)/2, (d-b)/2] ] ) # outer brackets for start of L_k\n",
    "\n",
    "        while L[k][-1] != [np.inf, 0]:\n",
    "\n",
    "\n",
    "            # Check if d is greater than all remaining pairs\n",
    "            if (d  > A[:,1]).all(): # check dont need vector\n",
    "\n",
    "                # add to end of L_k\n",
    "                # L = np.append(L, np.array([ [d,0], [np.inf, 0] ]))\n",
    "                L[k].extend([ [d,0], [np.inf, 0] ])\n",
    "\n",
    "            else:\n",
    "                # set (b', d')  to be the first term so that d' > d\n",
    "                for i in range(len(A)):\n",
    "                    if A[i][1] > d: \n",
    "                        # pop (b', d')\n",
    "\n",
    "                        ind1 = [k for k in range(len(A) ) if k != i] \n",
    "\n",
    "                        bd_prime, A = A[i], A[ind1]\n",
    "\n",
    "                        b_prime, d_prime = bd_prime\n",
    "                        break\n",
    "\n",
    "\n",
    "                # Case I    \n",
    "                if b_prime > d:\n",
    "                    #L = np.append(L, np.array([[d, 0] ]))\n",
    "                    L[k].extend([ [d, 0] ])\n",
    "\n",
    "                # Case II\n",
    "                if b_prime >= d:\n",
    "                    #L = np.append(L, np.array([ [b_prime, 0] ]))\n",
    "                    L[k].extend([ [b_prime, 0] ])\n",
    "\n",
    "                # Case III\n",
    "                else:\n",
    "                    #L = np.append(L, np.array([ [(b_prime + d)/2, (d-b_prime)/2] ]) ) \n",
    "                    L[k].extend([ [(b_prime + d)/2, (d-b_prime)/2] ])\n",
    "\n",
    "                    # Push (b', d) into A in order\n",
    "                    # find the first b_i in A so that b'<= b_i\n",
    "                    for i in range(len(A)):\n",
    "                        if b_prime <= A[i][0]:\n",
    "                            ind2 = i # index to push (b', d) if b' != b_i \n",
    "                            break\n",
    "\n",
    "                    # if b' = b_i \n",
    "                    # move index to the right one for every d_i so that d < d_i \n",
    "                    if b_prime == A[ind2][0]:\n",
    "                        A_i = A[ A[:,0] == b_prime]\n",
    "\n",
    "                        for j in range(len(A_i)):\n",
    "                            if d < A_i[j][1]:\n",
    "                                ind2 = ind2 + 1\n",
    "\n",
    "\n",
    "                    A = np.insert(A, ind2 ,np.array([b_prime, d]), axis = 0)\n",
    "\n",
    "\n",
    "                #L = np.append(L, np.array([ [(b_prime + d_prime)/2, (d_prime-b_prime)/2] ]) ) \n",
    "                L[k].extend([ [(b_prime + d_prime)/2, (d_prime-b_prime)/2] ])\n",
    "\n",
    "                b,d = b_prime, d_prime # Set (b',d')= (b, d)     \n",
    "        k += 1\n",
    "    return(L)"
   ]
  },
  {
   "cell_type": "markdown",
   "metadata": {},
   "source": [
    "#### Define L as array"
   ]
  },
  {
   "cell_type": "code",
   "execution_count": 103,
   "metadata": {},
   "outputs": [],
   "source": [
    "def PersistenceLanscape2(A):\n",
    "    L = np.array([])\n",
    "    #L = []\n",
    "    k = 0\n",
    "\n",
    "    # Sort A: read from right to left inside ()\n",
    "    ind =  np.lexsort((-A[:,1], A[:,0])) \n",
    "    A = A[ind]\n",
    "\n",
    "    while len(A) != 0:\n",
    "\n",
    "        # pop first term\n",
    "        bd, A = A[0], A[1:len(A)] \n",
    "        b, d = bd\n",
    "\n",
    "        # outer brackets for start of L_k\n",
    "        L = np.insert(L, len(L), np.array([-np.inf, 0]) , axis = 0) \n",
    "        L = np.insert(L, len(L), np.array([b, 0]) , axis = 0) \n",
    "        L = np.insert(L, len(L), np.array([(b+d)/2, (d-b)/2]) , axis = 0) \n",
    "        #L.append([ [-np.inf, 0], [b, 0], [(b+d)/2, (d-b)/2] ] ) # outer brackets for start of L_k\n",
    "        \n",
    "        while (L[-1] != [np.inf, 0]).all():\n",
    "\n",
    "\n",
    "            # Check if d is greater than all remaining pairs\n",
    "            if (d  > A[:,1]).all(): # check dont need vector\n",
    "\n",
    "                # add to end of L_k\n",
    "                L = np.insert(L, len(L), np.array( [d,0] ), axis = 0)\n",
    "                L = np.insert(L, len(L), np.array( [np.inf, 0] ), axis = 0)\n",
    "                #L[k].extend([ [d,0], [np.inf, 0] ])\n",
    "\n",
    "            else:\n",
    "                # set (b', d')  to be the first term so that d' > d\n",
    "                for i in range(len(A)):\n",
    "                    if A[i][1] > d: \n",
    "                        # pop (b', d')\n",
    "\n",
    "                        ind1 = [k for k in range(len(A) ) if k != i] \n",
    "\n",
    "                        bd_prime, A = A[i], A[ind1]\n",
    "\n",
    "                        b_prime, d_prime = bd_prime\n",
    "                        break\n",
    "\n",
    "\n",
    "                # Case I    \n",
    "                if b_prime > d:\n",
    "                    L = np.insert(L, len(L), np.array([d, 0] ), axis = 0)\n",
    "                    #L[k].extend([ [d, 0] ])\n",
    "\n",
    "                # Case II\n",
    "                if b_prime >= d:\n",
    "                    L = np.insert(L, len(L), np.array( [b_prime, 0] ), axis = 0)\n",
    "                    #L[k].extend([ [b_prime, 0] ])\n",
    "\n",
    "                # Case III\n",
    "                else:\n",
    "                    L = np.insert(L, len(L), np.array([(b_prime + d)/2, (d-b_prime)/2]), axis = 0 ) \n",
    "                    #L[k].extend([ [(b_prime + d)/2, (d-b_prime)/2] ])\n",
    "\n",
    "                    # Push (b', d) into A in order\n",
    "                    # find the first b_i in A so that b'<= b_i\n",
    "                    for i in range(len(A)):\n",
    "                        if b_prime <= A[i][0]:\n",
    "                            ind2 = i # index to push (b', d) if b' != b_i \n",
    "                            break\n",
    "\n",
    "                    # if b' = b_i \n",
    "                    # move index to the right one for every d_i so that d < d_i \n",
    "                    if b_prime == A[ind2][0]:\n",
    "                        A_i = A[ A[:,0] == b_prime]\n",
    "\n",
    "                        for j in range(len(A_i)):\n",
    "                            if d < A_i[j][1]:\n",
    "                                ind2 = ind2 + 1\n",
    "\n",
    "\n",
    "                    A = np.insert(A, ind2 ,np.array([b_prime, d]), axis = 0)\n",
    "\n",
    "\n",
    "                L = np.insert(L, len(L), np.array([(b_prime + d_prime)/2, (d_prime-b_prime)/2] ), axis = 0 ) \n",
    "                #L[k].extend([ [(b_prime + d_prime)/2, (d_prime-b_prime)/2] ])\n",
    "\n",
    "                b,d = b_prime, d_prime # Set (b',d')= (b, d)     \n",
    "        k += 1\n",
    "    return(L)"
   ]
  },
  {
   "cell_type": "code",
   "execution_count": 93,
   "metadata": {},
   "outputs": [
    {
     "data": {
      "text/plain": [
       "[[[-inf, 0],\n",
       "  [1.0, 0],\n",
       "  [3.0, 2.0],\n",
       "  [3.5, 1.5],\n",
       "  [5.0, 3.0],\n",
       "  [6.5, 1.5],\n",
       "  [7.0, 2.0],\n",
       "  [9.0, 0],\n",
       "  [inf, 0]],\n",
       " [[-inf, 0], [2.0, 0], [3.5, 1.5], [5.0, 0], [6.5, 1.5], [8.0, 0], [inf, 0]],\n",
       " [[-inf, 0],\n",
       "  [3.0, 0],\n",
       "  [3.5, 0.5],\n",
       "  [4.0, 0],\n",
       "  [6.0, 0],\n",
       "  [6.5, 0.5],\n",
       "  [7.0, 0],\n",
       "  [inf, 0]]]"
      ]
     },
     "execution_count": 93,
     "metadata": {},
     "output_type": "execute_result"
    }
   ],
   "source": [
    "A = np.array([ [1.0, 5.0], [2.0, 8.0], [3.0, 4.0], [5.0, 9.0], [6.0, 7.0] ]) \n",
    "PersistenceLanscape1(A)"
   ]
  },
  {
   "cell_type": "code",
   "execution_count": 104,
   "metadata": {},
   "outputs": [
    {
     "data": {
      "text/plain": [
       "array([-inf,  0. ,  1. ,  0. ,  3. ,  2. ,  3.5,  1.5,  5. ,  3. ,  6.5,\n",
       "        1.5,  7. ,  2. ,  9. ,  0. ,  inf,  0. , -inf,  0. ,  2. ,  0. ,\n",
       "        3.5,  1.5,  5. ,  0. ,  6.5,  1.5,  8. ,  0. ,  inf,  0. , -inf,\n",
       "        0. ,  3. ,  0. ,  3.5,  0.5,  4. ,  0. ,  6. ,  0. ,  6.5,  0.5,\n",
       "        7. ,  0. ,  inf,  0. ])"
      ]
     },
     "execution_count": 104,
     "metadata": {},
     "output_type": "execute_result"
    }
   ],
   "source": [
    "A = np.array([ [1.0, 5.0], [2.0, 8.0], [3.0, 4.0], [5.0, 9.0], [6.0, 7.0] ]) \n",
    "PersistenceLanscape2(A)"
   ]
  },
  {
   "cell_type": "markdown",
   "metadata": {},
   "source": [
    "## Using Timeit to compare array vs. list"
   ]
  },
  {
   "cell_type": "code",
   "execution_count": 58,
   "metadata": {},
   "outputs": [],
   "source": [
    "SETUP_CODE1 = ''' \n",
    "from __main__ import PersistenceLanscape1\n",
    "import numpy as np'''\n",
    "\n",
    "TEST_CODE1 = ''' \n",
    "A = np.array([ [1.0, 5.0], [2.0, 8.0], [3.0, 4.0], [5.0, 9.0], [6.0, 7.0] ]) \n",
    "PersistenceLanscape1(A) \n",
    "    '''\n",
    "\n",
    "times1 = timeit.repeat(setup = SETUP_CODE1, \n",
    "                          stmt = TEST_CODE1,  \n",
    "                      repeat = 10,\n",
    "                      number = 10000) # time it takes to execute the snippet 10,000 times"
   ]
  },
  {
   "cell_type": "code",
   "execution_count": 106,
   "metadata": {},
   "outputs": [],
   "source": [
    "SETUP_CODE2 = ''' \n",
    "from __main__ import PersistenceLanscape2\n",
    "import numpy as np'''\n",
    "\n",
    "TEST_CODE2 = ''' \n",
    "A = np.array([ [1.0, 5.0], [2.0, 8.0], [3.0, 4.0], [5.0, 9.0], [6.0, 7.0] ]) \n",
    "PersistenceLanscape2(A) \n",
    "    '''\n",
    "\n",
    "times2 = timeit.repeat(setup = SETUP_CODE2, \n",
    "                          stmt = TEST_CODE2,  \n",
    "                      repeat = 10,\n",
    "                      number = 10000) # time it takes to execute the snippet 10,000 times"
   ]
  },
  {
   "cell_type": "code",
   "execution_count": 64,
   "metadata": {},
   "outputs": [
    {
     "data": {
      "text/plain": [
       "array([1.62714347, 1.61685451, 1.59747162, 1.59776129, 1.62404009,\n",
       "       1.60066211, 1.61193538, 1.58486053, 1.60761017, 1.63683735])"
      ]
     },
     "execution_count": 64,
     "metadata": {},
     "output_type": "execute_result"
    }
   ],
   "source": [
    "times_list = np.array([])\n",
    "times_list = np.append(times_list, times1)\n",
    "times_list_avg = np.mean(np.append(times_list, times1))\n",
    "times_list"
   ]
  },
  {
   "cell_type": "code",
   "execution_count": 109,
   "metadata": {},
   "outputs": [
    {
     "data": {
      "text/plain": [
       "4.438789762650027"
      ]
     },
     "execution_count": 109,
     "metadata": {},
     "output_type": "execute_result"
    }
   ],
   "source": [
    "times_array = np.array([])\n",
    "times_array = np.append(times_list, times2)\n",
    "times_array_avg = np.mean(np.append(times_list, times2))\n",
    "times_array_avg"
   ]
  },
  {
   "cell_type": "code",
   "execution_count": 110,
   "metadata": {},
   "outputs": [
    {
     "name": "stdout",
     "output_type": "stream",
     "text": [
      "time_list average is  1.610517653299894 time_array average is  4.438789762650027\n"
     ]
    }
   ],
   "source": [
    "print('time_list average is ', times_list_avg,'time_array average is ', times_array_avg)"
   ]
  },
  {
   "cell_type": "markdown",
   "metadata": {},
   "source": [
    "### Algorithm with print statements "
   ]
  },
  {
   "cell_type": "code",
   "execution_count": 21,
   "metadata": {},
   "outputs": [
    {
     "name": "stdout",
     "output_type": "stream",
     "text": [
      "A is [[1. 5.]\n",
      " [2. 8.]\n",
      " [3. 4.]\n",
      " [5. 9.]\n",
      " [6. 7.]]\n",
      "outer loop\n",
      "k is 0\n",
      "L is [[[-inf, 0], [1.0, 0], [3.0, 2.0]]]\n",
      "(b,d) is [1.0, 5.0]\n",
      "inner loop\n",
      "(b',d') is [2.0, 8.0]\n",
      "A is [[2. 5.]\n",
      " [3. 4.]\n",
      " [5. 9.]\n",
      " [6. 7.]]\n",
      "(b,d) is [2.0, 8.0]\n",
      "inner loop\n",
      "(b',d') is [5.0, 9.0]\n",
      "A is [[2. 5.]\n",
      " [3. 4.]\n",
      " [5. 8.]\n",
      " [6. 7.]]\n",
      "(b,d) is [5.0, 9.0]\n",
      "inner loop\n",
      "outer loop\n",
      "k is 1\n",
      "L is [[[-inf, 0], [1.0, 0], [3.0, 2.0], [3.5, 1.5], [5.0, 3.0], [6.5, 1.5], [7.0, 2.0], [9.0, 0], [inf, 0]], [[-inf, 0], [2.0, 0], [3.5, 1.5]]]\n",
      "(b,d) is [2.0, 5.0]\n",
      "inner loop\n",
      "(b',d') is [5.0, 8.0]\n",
      "A is [[3. 4.]\n",
      " [6. 7.]]\n",
      "(b,d) is [5.0, 8.0]\n",
      "inner loop\n",
      "outer loop\n",
      "k is 2\n",
      "L is [[[-inf, 0], [1.0, 0], [3.0, 2.0], [3.5, 1.5], [5.0, 3.0], [6.5, 1.5], [7.0, 2.0], [9.0, 0], [inf, 0]], [[-inf, 0], [2.0, 0], [3.5, 1.5], [5.0, 0], [6.5, 1.5], [8.0, 0], [inf, 0]], [[-inf, 0], [3.0, 0], [3.5, 0.5]]]\n",
      "(b,d) is [3.0, 4.0]\n",
      "inner loop\n",
      "(b',d') is [6.0, 7.0]\n",
      "A is []\n",
      "(b,d) is [6.0, 7.0]\n",
      "inner loop\n"
     ]
    }
   ],
   "source": [
    "A = np.array([ [1.0, 5.0], [2.0, 8.0], [3.0, 4.0], [5.0, 9.0], [6.0, 7.0] ]) \n",
    "print(\"A is\", A)\n",
    "#L = np.array([])\n",
    "L = []\n",
    "k = 0\n",
    "\n",
    "# Sort A: read from right to left inside ()\n",
    "ind =  np.lexsort((-A[:,1], A[:,0])) \n",
    "A = A[ind]\n",
    "\n",
    "while len(A) != 0:\n",
    "    print('outer loop')\n",
    "    print(\"k is\",k)\n",
    "    \n",
    "    # pop first term\n",
    "    bd, A = A[0], A[1:len(A)] \n",
    "    b, d = bd\n",
    "    \n",
    "    \n",
    "    #L = np.extend(L, np.array([[-np.inf, 0], [b, 0], [(b+d)/2, (d-b)/2]]) ) # outer brackets for start of L_k\n",
    "    L.append([ [-np.inf, 0], [b, 0], [(b+d)/2, (d-b)/2] ] ) # outer brackets for start of L_k\n",
    "    \n",
    "    print(\"L is\",L)\n",
    "    while L[k][-1] != [np.inf, 0]:\n",
    "        print(\"(b,d) is\", [b, d])\n",
    "        print('inner loop')\n",
    "\n",
    "        # Check if d is greater than all remaining pairs\n",
    "        if (d  > A[:,1]).all(): # check dont need vector\n",
    "            \n",
    "            # add to end of L_k\n",
    "            # L = np.append(L, np.array([ [d,0], [np.inf, 0] ]))\n",
    "            L[k].extend([ [d,0], [np.inf, 0] ])\n",
    "\n",
    "        else:\n",
    "            # set (b', d')  to be the first term so that d' > d\n",
    "            for i in range(len(A)):\n",
    "                if A[i][1] > d: \n",
    "                    # pop (b', d')\n",
    "                    \n",
    "                    ind1 = [k for k in range(len(A) ) if k != i] \n",
    "                    \n",
    "                    bd_prime, A = A[i], A[ind1]\n",
    "                    \n",
    "                    b_prime, d_prime = bd_prime\n",
    "                    break\n",
    "            print(\"(b',d') is\", [b_prime, d_prime])\n",
    "\n",
    "            # Case I    \n",
    "            if b_prime > d:\n",
    "                #L = np.append(L, np.array([[d, 0] ]))\n",
    "                L[k].extend([ [d, 0] ])\n",
    "\n",
    "            # Case II\n",
    "            if b_prime >= d:\n",
    "                #L = np.append(L, np.array([ [b_prime, 0] ]))\n",
    "                L[k].extend([ [b_prime, 0] ])\n",
    "\n",
    "            # Case III\n",
    "            else:\n",
    "                #L = np.append(L, np.array([ [(b_prime + d)/2, (d-b_prime)/2] ]) ) \n",
    "                L[k].extend([ [(b_prime + d)/2, (d-b_prime)/2] ])\n",
    "                \n",
    "                # Push (b', d) into A in order\n",
    "                # find the first b_i in A so that b'<= b_i\n",
    "                for i in range(len(A)):\n",
    "                    if b_prime <= A[i][0]:\n",
    "                        ind2 = i # index to push (b', d) if b' != b_i \n",
    "                        break\n",
    "                \n",
    "                # if b' = b_i \n",
    "                # move index to the right one for every d_i so that d < d_i \n",
    "                if b_prime == A[ind2][0]:\n",
    "                    A_i = A[ A[:,0] == b_prime]\n",
    "                    \n",
    "                    for j in range(len(A_i)):\n",
    "                        if d < A_i[j][1]:\n",
    "                            ind2 = ind2 + 1\n",
    "                    print(\"(b',d) is\", [b_prime, d])\n",
    "                            \n",
    "                A = np.insert(A, ind2 ,np.array([b_prime, d]), axis = 0)\n",
    "\n",
    "\n",
    "            #L = np.append(L, np.array([ [(b_prime + d_prime)/2, (d_prime-b_prime)/2] ]) ) \n",
    "            L[k].extend([ [(b_prime + d_prime)/2, (d_prime-b_prime)/2] ])\n",
    "            \n",
    "            b,d = b_prime, d_prime # Set (b',d')= (b, d)     \n",
    "            print(\"A is\", A)\n",
    "    k += 1\n",
    "    "
   ]
  },
  {
   "cell_type": "markdown",
   "metadata": {},
   "source": [
    "### Sorting using .sort"
   ]
  },
  {
   "cell_type": "code",
   "execution_count": 2,
   "metadata": {},
   "outputs": [
    {
     "data": {
      "text/plain": [
       "array([(2., 8.), (4., 3.), (5., 9.), (6., 9.), (6., 7.), (1., 5.)],\n",
       "      dtype=[('first_coord', '<f8'), ('second_coord', '<f8')])"
      ]
     },
     "execution_count": 2,
     "metadata": {},
     "output_type": "execute_result"
    }
   ],
   "source": [
    "test1 =[  (2.0, 8.0), (4.0, 3.0), (5.0, 9.0), (6.0,9.0), (6.0, 7.0),(1.0, 5.0) ]\n",
    "dtype =[('first_coord', float), ('second_coord', float)]\n",
    "a = np.array(test1, dtype=dtype) \n",
    "a"
   ]
  },
  {
   "cell_type": "markdown",
   "metadata": {},
   "source": [
    "Sort based on first coordinate, second coordinate sorted automatically increasing"
   ]
  },
  {
   "cell_type": "code",
   "execution_count": 4,
   "metadata": {},
   "outputs": [
    {
     "data": {
      "text/plain": [
       "array([(1., 5.), (2., 8.), (4., 3.), (5., 9.), (6., 7.), (6., 9.)],\n",
       "      dtype=[('first_coord', '<f8'), ('second_coord', '<f8')])"
      ]
     },
     "execution_count": 4,
     "metadata": {},
     "output_type": "execute_result"
    }
   ],
   "source": [
    "sort1 = np.sort(a, order='first_coord')\n",
    "sort1"
   ]
  },
  {
   "cell_type": "markdown",
   "metadata": {},
   "source": [
    "Sorts both coordinates backwards"
   ]
  },
  {
   "cell_type": "code",
   "execution_count": 24,
   "metadata": {},
   "outputs": [
    {
     "data": {
      "text/plain": [
       "array([(6., 9.), (5., 9.), (2., 8.), (6., 7.), (1., 5.), (4., 3.)],\n",
       "      dtype=[('first_coord', '<f8'), ('second_coord', '<f8')])"
      ]
     },
     "execution_count": 24,
     "metadata": {},
     "output_type": "execute_result"
    }
   ],
   "source": [
    "a[:: -1].sort(order = 'second_coord')\n",
    "a"
   ]
  },
  {
   "cell_type": "code",
   "execution_count": 21,
   "metadata": {},
   "outputs": [
    {
     "data": {
      "text/plain": [
       "array([(1., 5.), (2., 8.), (4., 3.), (5., 9.), (6., 7.), (6., 9.)],\n",
       "      dtype=[('first_coord', '<f8'), ('second_coord', '<f8')])"
      ]
     },
     "execution_count": 21,
     "metadata": {},
     "output_type": "execute_result"
    }
   ],
   "source": [
    "np.sort(a, order='first_coord')"
   ]
  },
  {
   "cell_type": "code",
   "execution_count": 12,
   "metadata": {},
   "outputs": [
    {
     "data": {
      "text/plain": [
       "array([4, 4, 1, 3, 4, 3, 7, 2, 3, 6])"
      ]
     },
     "execution_count": 12,
     "metadata": {},
     "output_type": "execute_result"
    }
   ],
   "source": [
    "temp = np.random.randint(1,10, 10)  \n",
    "temp"
   ]
  },
  {
   "cell_type": "code",
   "execution_count": 14,
   "metadata": {},
   "outputs": [
    {
     "data": {
      "text/plain": [
       "array([7, 6, 4, 4, 4, 3, 3, 3, 2, 1])"
      ]
     },
     "execution_count": 14,
     "metadata": {},
     "output_type": "execute_result"
    }
   ],
   "source": [
    "temp[:: -1].sort()\n",
    "temp"
   ]
  },
  {
   "cell_type": "markdown",
   "metadata": {},
   "source": [
    "### Sorting using lexsort"
   ]
  },
  {
   "cell_type": "code",
   "execution_count": 48,
   "metadata": {},
   "outputs": [
    {
     "data": {
      "text/plain": [
       "array([[3, 2],\n",
       "       [6, 2],\n",
       "       [3, 6],\n",
       "       [3, 4],\n",
       "       [5, 3]])"
      ]
     },
     "execution_count": 48,
     "metadata": {},
     "output_type": "execute_result"
    }
   ],
   "source": [
    "a = np.array([[3, 2], [6, 2], [3, 6], [3, 4], [5, 3]])\n",
    "\n",
    "ind1 =  np.lexsort((a[:,1], a[:,0])) \n",
    "ind2 =  np.lexsort((-a[:,1], a[:,0])) \n",
    "a"
   ]
  },
  {
   "cell_type": "code",
   "execution_count": 49,
   "metadata": {},
   "outputs": [
    {
     "data": {
      "text/plain": [
       "array([[3, 2],\n",
       "       [3, 4],\n",
       "       [3, 6],\n",
       "       [5, 3],\n",
       "       [6, 2]])"
      ]
     },
     "execution_count": 49,
     "metadata": {},
     "output_type": "execute_result"
    }
   ],
   "source": [
    "a[ind1]"
   ]
  },
  {
   "cell_type": "code",
   "execution_count": 50,
   "metadata": {},
   "outputs": [
    {
     "data": {
      "text/plain": [
       "array([[3, 6],\n",
       "       [3, 4],\n",
       "       [3, 2],\n",
       "       [5, 3],\n",
       "       [6, 2]])"
      ]
     },
     "execution_count": 50,
     "metadata": {},
     "output_type": "execute_result"
    }
   ],
   "source": [
    "a[ind2]"
   ]
  },
  {
   "cell_type": "code",
   "execution_count": 51,
   "metadata": {},
   "outputs": [
    {
     "data": {
      "text/plain": [
       "array([2, 3, 0, 4, 1])"
      ]
     },
     "execution_count": 51,
     "metadata": {},
     "output_type": "execute_result"
    }
   ],
   "source": [
    "ind"
   ]
  }
 ],
 "metadata": {
  "kernelspec": {
   "display_name": "Python 3",
   "language": "python",
   "name": "python3"
  },
  "language_info": {
   "codemirror_mode": {
    "name": "ipython",
    "version": 3
   },
   "file_extension": ".py",
   "mimetype": "text/x-python",
   "name": "python",
   "nbconvert_exporter": "python",
   "pygments_lexer": "ipython3",
   "version": "3.7.7"
  }
 },
 "nbformat": 4,
 "nbformat_minor": 4
}
