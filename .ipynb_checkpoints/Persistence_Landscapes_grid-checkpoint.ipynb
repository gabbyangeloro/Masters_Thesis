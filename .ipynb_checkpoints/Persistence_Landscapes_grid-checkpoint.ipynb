{
 "cells": [
  {
   "cell_type": "code",
   "execution_count": 1,
   "metadata": {},
   "outputs": [],
   "source": [
    "# Using Ripser\n",
    "\n",
    "import numpy as np\n",
    "from ripser import ripser\n",
    "from persim import plot_diagrams\n",
    "import operator"
   ]
  },
  {
   "cell_type": "markdown",
   "metadata": {},
   "source": [
    "## Persistence Landscapes: Algorithm 1"
   ]
  },
  {
   "cell_type": "code",
   "execution_count": 130,
   "metadata": {},
   "outputs": [
    {
     "name": "stdout",
     "output_type": "stream",
     "text": [
      "k is 0\n",
      "L is [-inf   0.   1.   0.   3.   2.]\n",
      "(b',d') is [2.0, 8.0]\n",
      "A is [[2. 5.]\n",
      " [3. 4.]\n",
      " [5. 9.]\n",
      " [6. 7.]]\n",
      "(b',d') is [5.0, 9.0]\n",
      "A is [[2. 5.]\n",
      " [3. 4.]\n",
      " [5. 8.]\n",
      " [6. 7.]]\n",
      "k is 1\n",
      "L is [-inf  0.   1.   0.   3.   2.   3.5  1.5  5.   3.   6.5  1.5  7.   2.\n",
      "  9.   0.   inf  0.  -inf  0.   2.   0.   3.5  1.5]\n",
      "(b',d') is [5.0, 8.0]\n",
      "A is [[3. 4.]\n",
      " [6. 7.]]\n",
      "k is 2\n",
      "L is [-inf  0.   1.   0.   3.   2.   3.5  1.5  5.   3.   6.5  1.5  7.   2.\n",
      "  9.   0.   inf  0.  -inf  0.   2.   0.   3.5  1.5  5.   0.   6.5  1.5\n",
      "  8.   0.   inf  0.  -inf  0.   3.   0.   3.5  0.5]\n",
      "(b',d') is [6.0, 7.0]\n",
      "A is []\n"
     ]
    }
   ],
   "source": [
    "A = np.array([ [1.0, 5.0], [2.0, 8.0], [3.0, 4.0], [5.0, 9.0], [6.0, 7.0] ]) \n",
    "L = np.array([])\n",
    "k = 0\n",
    "\n",
    "# Sort A: read from right to left inside ()\n",
    "ind =  np.lexsort((-A[:,1], A[:,0])) \n",
    "A = A[ind]\n",
    "\n",
    "while len(A) != 0:\n",
    "    print(\"k is\",k)\n",
    "    \n",
    "    # pop first term\n",
    "    bd, A = A[0], A[1:len(A)] \n",
    "    b, d = bd\n",
    "    L = np.append(L, np.array([[-np.inf, 0], [b, 0], [(b+d)/2, (d-b)/2]]) ) # outer brackets for start of L_k\n",
    "    \n",
    "    print(\"L is\",L)\n",
    "    while L[-2] != np.inf or L[-1] != 0:\n",
    "\n",
    "        # Check if d is greater than all remaining pairs\n",
    "        if (d  > A[:,1]).all(): # check dont need vector\n",
    "            \n",
    "            # add to end of L_k\n",
    "            L = np.append(L, np.array([ [d,0], [np.inf, 0] ]))\n",
    "\n",
    "        else:\n",
    "            # set (b', d')  to be the first term so that d' > d\n",
    "            for i in range(len(A)):\n",
    "                if A[i][1] > d: \n",
    "                    # pop (b', d')\n",
    "                    \n",
    "                    ind1 = [k for k in range(len(A) ) if k != i] \n",
    "                    \n",
    "                    bd_prime, A = A[i], A[ind1]\n",
    "                    \n",
    "                    b_prime, d_prime = bd_prime\n",
    "                    break\n",
    "            print(\"(b',d') is\", [b_prime, d_prime])\n",
    "\n",
    "            # Case I    \n",
    "            if b_prime > d:\n",
    "                L = np.append(L, np.array([[d, 0] ]))\n",
    "\n",
    "            # Case II\n",
    "            if b_prime >= d:\n",
    "                 L = np.append(L, np.array([ [b_prime, 0] ]))\n",
    "\n",
    "            # Case III\n",
    "            else:\n",
    "                L = np.append(L, np.array([ [(b_prime + d)/2, (d-b_prime)/2] ]) ) \n",
    "                # Push (b', d) into A in order\n",
    "                \n",
    "                for i in range(len(A)):\n",
    "                    if b_prime <= A[i][0]:\n",
    "                        ind2 = i \n",
    "                        break\n",
    "                        \n",
    "                if b_prime == A[ind2][0]:\n",
    "                    A_i = A[ A[:,0] == b_prime]\n",
    "                    \n",
    "                    for j in range(len(A_i)):\n",
    "                        if d < A_i[j][1]:\n",
    "                            ind2 = (ind2) + j\n",
    "                            \n",
    "                A = np.insert(A, ind2 ,np.array([b_prime, d]), axis = 0)\n",
    "\n",
    "\n",
    "            L = np.append(L, np.array([ [(b_prime + d_prime)/2, (d_prime-b_prime)/2] ]) ) \n",
    "            b,d = b_prime, d_prime # Set (b',d')= (b, d)     \n",
    "            print(\"A is\", A)\n",
    "    k += 1\n",
    "    "
   ]
  },
  {
   "cell_type": "code",
   "execution_count": null,
   "metadata": {},
   "outputs": [],
   "source": []
  },
  {
   "cell_type": "code",
   "execution_count": null,
   "metadata": {},
   "outputs": [],
   "source": []
  },
  {
   "cell_type": "code",
   "execution_count": null,
   "metadata": {},
   "outputs": [],
   "source": []
  },
  {
   "cell_type": "code",
   "execution_count": null,
   "metadata": {},
   "outputs": [],
   "source": []
  },
  {
   "cell_type": "code",
   "execution_count": null,
   "metadata": {},
   "outputs": [],
   "source": []
  },
  {
   "cell_type": "code",
   "execution_count": null,
   "metadata": {},
   "outputs": [],
   "source": []
  },
  {
   "cell_type": "code",
   "execution_count": null,
   "metadata": {},
   "outputs": [],
   "source": []
  },
  {
   "cell_type": "code",
   "execution_count": 34,
   "metadata": {},
   "outputs": [
    {
     "data": {
      "text/plain": [
       "False"
      ]
     },
     "execution_count": 34,
     "metadata": {},
     "output_type": "execute_result"
    }
   ],
   "source": [
    "(np.array([1,2]) > np.array ([2,2])).all()"
   ]
  },
  {
   "cell_type": "code",
   "execution_count": 122,
   "metadata": {},
   "outputs": [
    {
     "data": {
      "text/plain": [
       "array([[0, 0]])"
      ]
     },
     "execution_count": 122,
     "metadata": {},
     "output_type": "execute_result"
    }
   ],
   "source": [
    "L = np.array([[0,0]])\n",
    "L"
   ]
  },
  {
   "cell_type": "code",
   "execution_count": 123,
   "metadata": {},
   "outputs": [
    {
     "data": {
      "text/plain": [
       "array([[3, 4],\n",
       "       [0, 0]])"
      ]
     },
     "execution_count": 123,
     "metadata": {},
     "output_type": "execute_result"
    }
   ],
   "source": [
    "L1= np.insert(L, 0, np.array([3,4]), axis = 0)\n",
    "L1"
   ]
  },
  {
   "cell_type": "code",
   "execution_count": 124,
   "metadata": {},
   "outputs": [
    {
     "data": {
      "text/plain": [
       "array([[5, 5],\n",
       "       [3, 4],\n",
       "       [0, 0]])"
      ]
     },
     "execution_count": 124,
     "metadata": {},
     "output_type": "execute_result"
    }
   ],
   "source": [
    "L2= np.insert(L1, 0, np.array([[5,5]]), axis = 0)\n",
    "L2"
   ]
  },
  {
   "cell_type": "code",
   "execution_count": null,
   "metadata": {},
   "outputs": [],
   "source": []
  },
  {
   "cell_type": "code",
   "execution_count": 45,
   "metadata": {},
   "outputs": [
    {
     "data": {
      "text/plain": [
       "array([[[2., 8.]],\n",
       "\n",
       "       [[3., 4.]],\n",
       "\n",
       "       [[5., 9.]],\n",
       "\n",
       "       [[6., 7.]]])"
      ]
     },
     "execution_count": 45,
     "metadata": {},
     "output_type": "execute_result"
    }
   ],
   "source": [
    "A[:,np.newaxis,:]"
   ]
  },
  {
   "cell_type": "code",
   "execution_count": 93,
   "metadata": {},
   "outputs": [
    {
     "data": {
      "text/plain": [
       "array([[1., 5.],\n",
       "       [2., 3.],\n",
       "       [2., 8.],\n",
       "       [3., 4.],\n",
       "       [5., 9.],\n",
       "       [6., 7.]])"
      ]
     },
     "execution_count": 93,
     "metadata": {},
     "output_type": "execute_result"
    }
   ],
   "source": [
    "A = np.array([ [1.0, 5.0],[2.0,3], [2.0, 8.0], [3.0, 4.0], [5.0, 9.0], [6.0, 7.0] ]) \n",
    "A"
   ]
  },
  {
   "cell_type": "code",
   "execution_count": 97,
   "metadata": {},
   "outputs": [
    {
     "data": {
      "text/plain": [
       "array([[1., 5.],\n",
       "       [2., 3.],\n",
       "       [2., 8.],\n",
       "       [3., 4.],\n",
       "       [5., 9.],\n",
       "       [3., 3.],\n",
       "       [6., 7.]])"
      ]
     },
     "execution_count": 97,
     "metadata": {},
     "output_type": "execute_result"
    }
   ],
   "source": [
    "np.insert(A, 5, np.array([3,3]), axis = 0)"
   ]
  },
  {
   "cell_type": "code",
   "execution_count": 92,
   "metadata": {},
   "outputs": [
    {
     "data": {
      "text/plain": [
       "array([[2., 3.],\n",
       "       [2., 8.]])"
      ]
     },
     "execution_count": 92,
     "metadata": {},
     "output_type": "execute_result"
    }
   ],
   "source": [
    "A[ A[:,0] == 2 ]"
   ]
  },
  {
   "cell_type": "code",
   "execution_count": 87,
   "metadata": {},
   "outputs": [
    {
     "data": {
      "text/plain": [
       "array([], dtype=float64)"
      ]
     },
     "execution_count": 87,
     "metadata": {},
     "output_type": "execute_result"
    }
   ],
   "source": [
    "A[:,0] "
   ]
  },
  {
   "cell_type": "code",
   "execution_count": 75,
   "metadata": {},
   "outputs": [
    {
     "data": {
      "text/plain": [
       "array([], shape=(0, 2), dtype=float64)"
      ]
     },
     "execution_count": 75,
     "metadata": {},
     "output_type": "execute_result"
    }
   ],
   "source": [
    "A[0:1 & 2:len(A)]"
   ]
  },
  {
   "cell_type": "code",
   "execution_count": 68,
   "metadata": {},
   "outputs": [
    {
     "data": {
      "text/plain": [
       "False"
      ]
     },
     "execution_count": 68,
     "metadata": {},
     "output_type": "execute_result"
    }
   ],
   "source": [
    "(3 * np.ones(len(A)) > A[:,1]).all()"
   ]
  },
  {
   "cell_type": "code",
   "execution_count": 80,
   "metadata": {},
   "outputs": [
    {
     "data": {
      "text/plain": [
       "[0, 2, 3]"
      ]
     },
     "execution_count": 80,
     "metadata": {},
     "output_type": "execute_result"
    }
   ],
   "source": [
    "x = [k for k in range(len(A) ) if k !=1]\n",
    "x"
   ]
  },
  {
   "cell_type": "code",
   "execution_count": 81,
   "metadata": {},
   "outputs": [
    {
     "data": {
      "text/plain": [
       "array([[2., 8.],\n",
       "       [5., 9.],\n",
       "       [6., 7.]])"
      ]
     },
     "execution_count": 81,
     "metadata": {},
     "output_type": "execute_result"
    }
   ],
   "source": [
    "A[x]"
   ]
  },
  {
   "cell_type": "code",
   "execution_count": 26,
   "metadata": {},
   "outputs": [
    {
     "data": {
      "text/plain": [
       "array([-inf,   0.,   1.,   0.,   3.,   2.])"
      ]
     },
     "execution_count": 26,
     "metadata": {},
     "output_type": "execute_result"
    }
   ],
   "source": [
    "L"
   ]
  },
  {
   "cell_type": "code",
   "execution_count": 53,
   "metadata": {},
   "outputs": [
    {
     "data": {
      "text/plain": [
       "array([[-inf,   0.],\n",
       "       [  1.,   0.],\n",
       "       [  3.,   2.]])"
      ]
     },
     "execution_count": 53,
     "metadata": {},
     "output_type": "execute_result"
    }
   ],
   "source": [
    "L1=L.reshape((3,2))\n",
    "L1"
   ]
  },
  {
   "cell_type": "code",
   "execution_count": 59,
   "metadata": {},
   "outputs": [
    {
     "ename": "SyntaxError",
     "evalue": "unexpected EOF while parsing (<ipython-input-59-2344d178d312>, line 1)",
     "output_type": "error",
     "traceback": [
      "\u001b[0;36m  File \u001b[0;32m\"<ipython-input-59-2344d178d312>\"\u001b[0;36m, line \u001b[0;32m1\u001b[0m\n\u001b[0;31m    np.append(L1, (np.array([4,4]) )\u001b[0m\n\u001b[0m                                    ^\u001b[0m\n\u001b[0;31mSyntaxError\u001b[0m\u001b[0;31m:\u001b[0m unexpected EOF while parsing\n"
     ]
    }
   ],
   "source": [
    "np.append(L1, (np.array([4,4]) )"
   ]
  },
  {
   "cell_type": "code",
   "execution_count": 58,
   "metadata": {},
   "outputs": [
    {
     "data": {
      "text/plain": [
       "array([[4, 4]])"
      ]
     },
     "execution_count": 58,
     "metadata": {},
     "output_type": "execute_result"
    }
   ],
   "source": [
    "np.array([4,4])[np.newaxis]"
   ]
  },
  {
   "cell_type": "code",
   "execution_count": null,
   "metadata": {},
   "outputs": [],
   "source": []
  },
  {
   "cell_type": "code",
   "execution_count": null,
   "metadata": {},
   "outputs": [],
   "source": []
  },
  {
   "cell_type": "code",
   "execution_count": 51,
   "metadata": {},
   "outputs": [
    {
     "ename": "TypeError",
     "evalue": "'NoneType' object is not callable",
     "output_type": "error",
     "traceback": [
      "\u001b[0;31m---------------------------------------------------------------------------\u001b[0m",
      "\u001b[0;31mTypeError\u001b[0m                                 Traceback (most recent call last)",
      "\u001b[0;32m<ipython-input-51-a00fa6eae36f>\u001b[0m in \u001b[0;36m<module>\u001b[0;34m\u001b[0m\n\u001b[0;32m----> 1\u001b[0;31m \u001b[0mL\u001b[0m\u001b[0;34m[\u001b[0m\u001b[0mnp\u001b[0m\u001b[0;34m.\u001b[0m\u001b[0mnewaxis\u001b[0m\u001b[0;34m(\u001b[0m\u001b[0;36m2\u001b[0m\u001b[0;34m)\u001b[0m\u001b[0;34m]\u001b[0m\u001b[0;34m\u001b[0m\u001b[0;34m\u001b[0m\u001b[0m\n\u001b[0m",
      "\u001b[0;31mTypeError\u001b[0m: 'NoneType' object is not callable"
     ]
    }
   ],
   "source": [
    "L[np.newaxis]"
   ]
  },
  {
   "cell_type": "code",
   "execution_count": 27,
   "metadata": {},
   "outputs": [],
   "source": [
    "a = np.empty((len(L),))\n",
    "a[::2] = 0\n",
    "a[1::2] = 1"
   ]
  },
  {
   "cell_type": "code",
   "execution_count": 30,
   "metadata": {},
   "outputs": [
    {
     "data": {
      "text/plain": [
       "array([0., 1., 0., 1., 0., 1.])"
      ]
     },
     "execution_count": 30,
     "metadata": {},
     "output_type": "execute_result"
    }
   ],
   "source": [
    "np.transpose(a)\n",
    "a"
   ]
  },
  {
   "cell_type": "code",
   "execution_count": 31,
   "metadata": {},
   "outputs": [
    {
     "name": "stderr",
     "output_type": "stream",
     "text": [
      "/opt/anaconda3/envs/Masters_Thesis/lib/python3.7/site-packages/ipykernel_launcher.py:1: RuntimeWarning: invalid value encountered in multiply\n",
      "  \"\"\"Entry point for launching an IPython kernel.\n"
     ]
    },
    {
     "data": {
      "text/plain": [
       "array([nan,  0.,  0.,  0.,  0.,  2.])"
      ]
     },
     "execution_count": 31,
     "metadata": {},
     "output_type": "execute_result"
    }
   ],
   "source": [
    "L * a"
   ]
  },
  {
   "cell_type": "code",
   "execution_count": null,
   "metadata": {},
   "outputs": [],
   "source": []
  },
  {
   "cell_type": "code",
   "execution_count": null,
   "metadata": {},
   "outputs": [],
   "source": []
  },
  {
   "cell_type": "code",
   "execution_count": null,
   "metadata": {},
   "outputs": [],
   "source": []
  },
  {
   "cell_type": "code",
   "execution_count": null,
   "metadata": {},
   "outputs": [],
   "source": []
  },
  {
   "cell_type": "code",
   "execution_count": 69,
   "metadata": {},
   "outputs": [],
   "source": [
    "A = np.array([ [2.0, 8.0], [3.0, 4.0], [5.0, 9.0], [6.0, 7.0] ]) \n",
    "A = A.tolist() # turn numpy array into list\n",
    "\n",
    "b,d = 1,5"
   ]
  },
  {
   "cell_type": "code",
   "execution_count": 73,
   "metadata": {},
   "outputs": [
    {
     "data": {
      "text/plain": [
       "[1, 1, 1, 1]"
      ]
     },
     "execution_count": 73,
     "metadata": {},
     "output_type": "execute_result"
    }
   ],
   "source": [
    "## list comprehension example\n",
    "[1 for i in range(10) if i >5]"
   ]
  },
  {
   "cell_type": "code",
   "execution_count": null,
   "metadata": {},
   "outputs": [],
   "source": [
    "bigger_than_list = [1 for i in range(len(A)) if d <= A[i][1]]\n",
    "bigger_than_list == []"
   ]
  },
  {
   "cell_type": "code",
   "execution_count": null,
   "metadata": {},
   "outputs": [],
   "source": []
  },
  {
   "cell_type": "markdown",
   "metadata": {},
   "source": [
    "### Sorting using .sort"
   ]
  },
  {
   "cell_type": "code",
   "execution_count": 2,
   "metadata": {},
   "outputs": [
    {
     "data": {
      "text/plain": [
       "array([(2., 8.), (4., 3.), (5., 9.), (6., 9.), (6., 7.), (1., 5.)],\n",
       "      dtype=[('first_coord', '<f8'), ('second_coord', '<f8')])"
      ]
     },
     "execution_count": 2,
     "metadata": {},
     "output_type": "execute_result"
    }
   ],
   "source": [
    "test1 =[  (2.0, 8.0), (4.0, 3.0), (5.0, 9.0), (6.0,9.0), (6.0, 7.0),(1.0, 5.0) ]\n",
    "dtype =[('first_coord', float), ('second_coord', float)]\n",
    "a = np.array(test1, dtype=dtype) \n",
    "a"
   ]
  },
  {
   "cell_type": "markdown",
   "metadata": {},
   "source": [
    "Sort based on first coordinate, second coordinate sorted automatically increasing"
   ]
  },
  {
   "cell_type": "code",
   "execution_count": 4,
   "metadata": {},
   "outputs": [
    {
     "data": {
      "text/plain": [
       "array([(1., 5.), (2., 8.), (4., 3.), (5., 9.), (6., 7.), (6., 9.)],\n",
       "      dtype=[('first_coord', '<f8'), ('second_coord', '<f8')])"
      ]
     },
     "execution_count": 4,
     "metadata": {},
     "output_type": "execute_result"
    }
   ],
   "source": [
    "sort1 = np.sort(a, order='first_coord')\n",
    "sort1"
   ]
  },
  {
   "cell_type": "markdown",
   "metadata": {},
   "source": [
    "Sorts both coordinates backwards"
   ]
  },
  {
   "cell_type": "code",
   "execution_count": 24,
   "metadata": {},
   "outputs": [
    {
     "data": {
      "text/plain": [
       "array([(6., 9.), (5., 9.), (2., 8.), (6., 7.), (1., 5.), (4., 3.)],\n",
       "      dtype=[('first_coord', '<f8'), ('second_coord', '<f8')])"
      ]
     },
     "execution_count": 24,
     "metadata": {},
     "output_type": "execute_result"
    }
   ],
   "source": [
    "a[:: -1].sort(order = 'second_coord')\n",
    "a"
   ]
  },
  {
   "cell_type": "code",
   "execution_count": 21,
   "metadata": {},
   "outputs": [
    {
     "data": {
      "text/plain": [
       "array([(1., 5.), (2., 8.), (4., 3.), (5., 9.), (6., 7.), (6., 9.)],\n",
       "      dtype=[('first_coord', '<f8'), ('second_coord', '<f8')])"
      ]
     },
     "execution_count": 21,
     "metadata": {},
     "output_type": "execute_result"
    }
   ],
   "source": [
    "np.sort(a, order='first_coord')"
   ]
  },
  {
   "cell_type": "code",
   "execution_count": 12,
   "metadata": {},
   "outputs": [
    {
     "data": {
      "text/plain": [
       "array([4, 4, 1, 3, 4, 3, 7, 2, 3, 6])"
      ]
     },
     "execution_count": 12,
     "metadata": {},
     "output_type": "execute_result"
    }
   ],
   "source": [
    "temp = np.random.randint(1,10, 10)  \n",
    "temp"
   ]
  },
  {
   "cell_type": "code",
   "execution_count": 14,
   "metadata": {},
   "outputs": [
    {
     "data": {
      "text/plain": [
       "array([7, 6, 4, 4, 4, 3, 3, 3, 2, 1])"
      ]
     },
     "execution_count": 14,
     "metadata": {},
     "output_type": "execute_result"
    }
   ],
   "source": [
    "temp[:: -1].sort()\n",
    "temp"
   ]
  },
  {
   "cell_type": "markdown",
   "metadata": {},
   "source": [
    "### Sorting using lexsort"
   ]
  },
  {
   "cell_type": "code",
   "execution_count": 48,
   "metadata": {},
   "outputs": [
    {
     "data": {
      "text/plain": [
       "array([[3, 2],\n",
       "       [6, 2],\n",
       "       [3, 6],\n",
       "       [3, 4],\n",
       "       [5, 3]])"
      ]
     },
     "execution_count": 48,
     "metadata": {},
     "output_type": "execute_result"
    }
   ],
   "source": [
    "a = np.array([[3, 2], [6, 2], [3, 6], [3, 4], [5, 3]])\n",
    "\n",
    "ind1 =  np.lexsort((a[:,1], a[:,0])) \n",
    "ind2 =  np.lexsort((-a[:,1], a[:,0])) \n",
    "a"
   ]
  },
  {
   "cell_type": "code",
   "execution_count": 49,
   "metadata": {},
   "outputs": [
    {
     "data": {
      "text/plain": [
       "array([[3, 2],\n",
       "       [3, 4],\n",
       "       [3, 6],\n",
       "       [5, 3],\n",
       "       [6, 2]])"
      ]
     },
     "execution_count": 49,
     "metadata": {},
     "output_type": "execute_result"
    }
   ],
   "source": [
    "a[ind1]"
   ]
  },
  {
   "cell_type": "code",
   "execution_count": 50,
   "metadata": {},
   "outputs": [
    {
     "data": {
      "text/plain": [
       "array([[3, 6],\n",
       "       [3, 4],\n",
       "       [3, 2],\n",
       "       [5, 3],\n",
       "       [6, 2]])"
      ]
     },
     "execution_count": 50,
     "metadata": {},
     "output_type": "execute_result"
    }
   ],
   "source": [
    "a[ind2]"
   ]
  },
  {
   "cell_type": "code",
   "execution_count": 51,
   "metadata": {},
   "outputs": [
    {
     "data": {
      "text/plain": [
       "array([2, 3, 0, 4, 1])"
      ]
     },
     "execution_count": 51,
     "metadata": {},
     "output_type": "execute_result"
    }
   ],
   "source": [
    "ind"
   ]
  },
  {
   "cell_type": "code",
   "execution_count": null,
   "metadata": {},
   "outputs": [],
   "source": []
  },
  {
   "cell_type": "code",
   "execution_count": null,
   "metadata": {},
   "outputs": [],
   "source": []
  },
  {
   "cell_type": "code",
   "execution_count": null,
   "metadata": {},
   "outputs": [],
   "source": []
  }
 ],
 "metadata": {
  "kernelspec": {
   "display_name": "Python 3",
   "language": "python",
   "name": "python3"
  },
  "language_info": {
   "codemirror_mode": {
    "name": "ipython",
    "version": 3
   },
   "file_extension": ".py",
   "mimetype": "text/x-python",
   "name": "python",
   "nbconvert_exporter": "python",
   "pygments_lexer": "ipython3",
   "version": "3.7.7"
  }
 },
 "nbformat": 4,
 "nbformat_minor": 4
}
