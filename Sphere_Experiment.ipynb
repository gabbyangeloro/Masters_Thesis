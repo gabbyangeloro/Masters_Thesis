{
 "cells": [
  {
   "cell_type": "markdown",
   "metadata": {},
   "source": [
    "## Experiemnt: $S^2$ vs. $S^3$ "
   ]
  },
  {
   "cell_type": "markdown",
   "metadata": {},
   "source": [
    "This notebook executes an experiemnt to see if persistence landscapes can tell the difference between a sphere in dimension 2 and 3."
   ]
  },
  {
   "cell_type": "code",
   "execution_count": 2,
   "metadata": {},
   "outputs": [],
   "source": [
    "import numpy as np\n",
    "import random\n",
    "\n",
    "from ripser import ripser\n",
    "from PersistenceLandscapeExact import PersistenceLandscapeExact\n",
    "from visualization import plot_landscape\n",
    "\n",
    "from tadasets import dsphere"
   ]
  },
  {
   "cell_type": "markdown",
   "metadata": {},
   "source": [
    " Sample 100 points from $S^2$ and $S^3$, 100 times"
   ]
  },
  {
   "cell_type": "code",
   "execution_count": 12,
   "metadata": {},
   "outputs": [],
   "source": [
    "# sph2: list of 100 runs of sampling S2\n",
    "sph2 = []\n",
    "for i in range(100):\n",
    "    sph2.append(dsphere(n=100, d=2, r=1))\n",
    "\n",
    "# sph3: list of 100 runs of sampling S3\n",
    "sph3 = []\n",
    "for i in range(100):\n",
    "    sph3.append(dsphere(n=100, d=3, r=1))"
   ]
  },
  {
   "cell_type": "markdown",
   "metadata": {},
   "source": [
    "Compute persistence diagram for each sphere"
   ]
  },
  {
   "cell_type": "code",
   "execution_count": 13,
   "metadata": {},
   "outputs": [],
   "source": [
    "#sph2_dgm: list of 100 diagrams for 100 samples of S2\n",
    "sph2_dgm = [ripser(sphere, maxdim=2)['dgms'] for sphere in sph2]\n",
    "\n",
    "\n",
    "#sph3_dgm: list of 100 diagrams for 100 samples of S3\n",
    "sph3_dgm = [ripser(sphere, maxdim=2)['dgms']for sphere in sph3]"
   ]
  },
  {
   "cell_type": "markdown",
   "metadata": {},
   "source": [
    "Compute persistence landscape for each sphere for dimension 1 and 2"
   ]
  },
  {
   "cell_type": "code",
   "execution_count": null,
   "metadata": {},
   "outputs": [],
   "source": [
    "#sph2_PL1, sph2_PL2: list of 100 landscapes for 100 samples of S2 in degree 1 and 2 \n",
    "sph2_PL1 = PersistenceLandscapeExact()\n",
    "sph2_PL2\n"
   ]
  }
 ],
 "metadata": {
  "kernelspec": {
   "display_name": "Python 3",
   "language": "python",
   "name": "python3"
  },
  "language_info": {
   "codemirror_mode": {
    "name": "ipython",
    "version": 3
   },
   "file_extension": ".py",
   "mimetype": "text/x-python",
   "name": "python",
   "nbconvert_exporter": "python",
   "pygments_lexer": "ipython3",
   "version": "3.7.7"
  }
 },
 "nbformat": 4,
 "nbformat_minor": 4
}
