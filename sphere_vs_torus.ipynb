{
 "cells": [
  {
   "cell_type": "markdown",
   "metadata": {},
   "source": [
    "# Sphere versus Torus"
   ]
  },
  {
   "cell_type": "markdown",
   "metadata": {},
   "source": [
    "In this notebook, we attempt to use persistence landscapes to determine if TDA can tell the difference between a sphere and a torus. We sample 1000 points from each shape, compute the Vietoris-Rips persistent homology using Ripser, and then compute the respective landscapes. \n",
    "\n",
    "To determine if we can see a difference, we will repeat this process 100 times and then compute the mean landscape across these 100 runs.\n",
    "\n",
    "...Finish intro..."
   ]
  },
  {
   "cell_type": "markdown",
   "metadata": {},
   "source": [
    "#### Imports "
   ]
  },
  {
   "cell_type": "code",
   "execution_count": 1,
   "metadata": {},
   "outputs": [],
   "source": [
    "import numpy as np\n",
    "from ripser import ripser\n",
    "from tadasets import sphere, torus\n",
    "from PersistenceLandscapeGrid import PersistenceLandscapeGrid\n",
    "from operator import itemgetter"
   ]
  },
  {
   "cell_type": "code",
   "execution_count": 2,
   "metadata": {},
   "outputs": [],
   "source": [
    "sphere_pts = sphere(n=1000)\n",
    "torus_pts = torus(n=1000)"
   ]
  },
  {
   "cell_type": "code",
   "execution_count": 3,
   "metadata": {},
   "outputs": [],
   "source": [
    "sphere_dgms = ripser(sphere_pts)['dgms']\n",
    "torus_dgms = ripser(torus_pts)['dgms']"
   ]
  },
  {
   "cell_type": "markdown",
   "metadata": {},
   "source": [
    "At this point, `PersistenceLandscapeGrid` requires the user to specify the parameters of a grid explicitly. Since we want to compare the diagrams from the sphere and torus, we compute the appropriate start and stop point."
   ]
  },
  {
   "cell_type": "code",
   "execution_count": 4,
   "metadata": {},
   "outputs": [],
   "source": [
    "hom_deg = 1\n",
    "sph_b = min(sphere_dgms[hom_deg],key=itemgetter(0))[0]\n",
    "sph_d = max(sphere_dgms[hom_deg],key=itemgetter(1))[1]\n",
    "tor_b = min(torus_dgms[hom_deg],key=itemgetter(0))[0]\n",
    "tor_d = max(torus_dgms[hom_deg],key=itemgetter(1))[1]\n",
    "\n",
    "start = min(sph_b,tor_b)\n",
    "stop = max(sph_d,tor_d)"
   ]
  },
  {
   "cell_type": "code",
   "execution_count": 5,
   "metadata": {},
   "outputs": [],
   "source": [
    "sph_pl = PersistenceLandscapeGrid(start=start,\n",
    "                                 stop=stop,\n",
    "                                 num_dims=500,\n",
    "                                 diagrams=sphere_dgms,\n",
    "                                 homological_degree=1)\n",
    "tor_pl = PersistenceLandscapeGrid(start=start,\n",
    "                                 stop=stop,\n",
    "                                 num_dims=500,\n",
    "                                 diagrams=torus_dgms,\n",
    "                                 homological_degree=1)"
   ]
  },
  {
   "cell_type": "code",
   "execution_count": 6,
   "metadata": {},
   "outputs": [],
   "source": [
    "sph_pl.compute_landscape()\n",
    "tor_pl.compute_landscape()"
   ]
  },
  {
   "cell_type": "code",
   "execution_count": 7,
   "metadata": {},
   "outputs": [],
   "source": [
    "diff_pl = sph_pl - tor_pl"
   ]
  },
  {
   "cell_type": "markdown",
   "metadata": {},
   "source": [
    "(Put picture of diff here maybe, once the code is done.)"
   ]
  },
  {
   "cell_type": "code",
   "execution_count": 12,
   "metadata": {},
   "outputs": [
    {
     "name": "stdout",
     "output_type": "stream",
     "text": [
      "The threshold for significance is 0.7291105946895474\n"
     ]
    }
   ],
   "source": [
    "significant = diff_pl.sup_norm()\n",
    "\n",
    "print(f'The threshold for significance is {significant}')"
   ]
  },
  {
   "cell_type": "markdown",
   "metadata": {},
   "source": [
    "## 100 Runs"
   ]
  },
  {
   "cell_type": "markdown",
   "metadata": {},
   "source": [
    "This is a single run. Now lets do it 100 times. This might be very slow. One way to speed it up is multiprocessing but we skip that for now.\n",
    "\n",
    "Let's compute the start and stop parameters of our grid on the fly to save time."
   ]
  },
  {
   "cell_type": "code",
   "execution_count": 15,
   "metadata": {},
   "outputs": [
    {
     "ename": "KeyboardInterrupt",
     "evalue": "",
     "output_type": "error",
     "traceback": [
      "\u001b[1;31m---------------------------------------------------------------------------\u001b[0m",
      "\u001b[1;31mKeyboardInterrupt\u001b[0m                         Traceback (most recent call last)",
      "\u001b[1;32m<ipython-input-15-4b02e2dfc307>\u001b[0m in \u001b[0;36m<module>\u001b[1;34m\u001b[0m\n\u001b[0;32m      8\u001b[0m \u001b[1;32mfor\u001b[0m \u001b[0mi\u001b[0m \u001b[1;32min\u001b[0m \u001b[0mrange\u001b[0m\u001b[1;33m(\u001b[0m\u001b[1;36m100\u001b[0m\u001b[1;33m)\u001b[0m\u001b[1;33m:\u001b[0m\u001b[1;33m\u001b[0m\u001b[1;33m\u001b[0m\u001b[0m\n\u001b[0;32m      9\u001b[0m     \u001b[0msph_pts\u001b[0m \u001b[1;33m=\u001b[0m \u001b[0msphere\u001b[0m\u001b[1;33m(\u001b[0m\u001b[0mn\u001b[0m\u001b[1;33m=\u001b[0m\u001b[1;36m1000\u001b[0m\u001b[1;33m)\u001b[0m\u001b[1;33m\u001b[0m\u001b[1;33m\u001b[0m\u001b[0m\n\u001b[1;32m---> 10\u001b[1;33m     \u001b[0msph_dgm\u001b[0m \u001b[1;33m=\u001b[0m \u001b[0mripser\u001b[0m\u001b[1;33m(\u001b[0m\u001b[0msph_pts\u001b[0m\u001b[1;33m)\u001b[0m\u001b[1;33m[\u001b[0m\u001b[1;34m'dgms'\u001b[0m\u001b[1;33m]\u001b[0m\u001b[1;33m\u001b[0m\u001b[1;33m\u001b[0m\u001b[0m\n\u001b[0m\u001b[0;32m     11\u001b[0m     \u001b[1;32mif\u001b[0m \u001b[0mmin\u001b[0m\u001b[1;33m(\u001b[0m\u001b[0msph_dgm\u001b[0m\u001b[1;33m[\u001b[0m\u001b[1;36m1\u001b[0m\u001b[1;33m]\u001b[0m\u001b[1;33m,\u001b[0m\u001b[0mkey\u001b[0m\u001b[1;33m=\u001b[0m\u001b[0mitemgetter\u001b[0m\u001b[1;33m(\u001b[0m\u001b[1;36m0\u001b[0m\u001b[1;33m)\u001b[0m\u001b[1;33m)\u001b[0m\u001b[1;33m[\u001b[0m\u001b[1;36m0\u001b[0m\u001b[1;33m]\u001b[0m \u001b[1;33m<\u001b[0m \u001b[0msph_b\u001b[0m\u001b[1;33m:\u001b[0m\u001b[1;33m\u001b[0m\u001b[1;33m\u001b[0m\u001b[0m\n\u001b[0;32m     12\u001b[0m         \u001b[0msph_b\u001b[0m \u001b[1;33m=\u001b[0m \u001b[0mmin\u001b[0m\u001b[1;33m(\u001b[0m\u001b[0msph_dgm\u001b[0m\u001b[1;33m[\u001b[0m\u001b[1;36m1\u001b[0m\u001b[1;33m]\u001b[0m\u001b[1;33m,\u001b[0m\u001b[0mkey\u001b[0m\u001b[1;33m=\u001b[0m\u001b[0mitemgetter\u001b[0m\u001b[1;33m(\u001b[0m\u001b[1;36m0\u001b[0m\u001b[1;33m)\u001b[0m\u001b[1;33m)\u001b[0m\u001b[1;33m[\u001b[0m\u001b[1;36m0\u001b[0m\u001b[1;33m]\u001b[0m\u001b[1;33m\u001b[0m\u001b[1;33m\u001b[0m\u001b[0m\n",
      "\u001b[1;32mE:\\Miniconda\\envs\\tda\\lib\\site-packages\\ripser\\ripser.py\u001b[0m in \u001b[0;36mripser\u001b[1;34m(X, maxdim, thresh, coeff, distance_matrix, do_cocycles, metric, n_perm)\u001b[0m\n\u001b[0;32m    317\u001b[0m \u001b[1;33m\u001b[0m\u001b[0m\n\u001b[0;32m    318\u001b[0m     \u001b[1;31m# Unwrap persistence diagrams\u001b[0m\u001b[1;33m\u001b[0m\u001b[1;33m\u001b[0m\u001b[1;33m\u001b[0m\u001b[0m\n\u001b[1;32m--> 319\u001b[1;33m     \u001b[0mdgms\u001b[0m \u001b[1;33m=\u001b[0m \u001b[0mres\u001b[0m\u001b[1;33m[\u001b[0m\u001b[1;34m\"births_and_deaths_by_dim\"\u001b[0m\u001b[1;33m]\u001b[0m\u001b[1;33m\u001b[0m\u001b[1;33m\u001b[0m\u001b[0m\n\u001b[0m\u001b[0;32m    320\u001b[0m     \u001b[1;32mfor\u001b[0m \u001b[0mdim\u001b[0m \u001b[1;32min\u001b[0m \u001b[0mrange\u001b[0m\u001b[1;33m(\u001b[0m\u001b[0mlen\u001b[0m\u001b[1;33m(\u001b[0m\u001b[0mdgms\u001b[0m\u001b[1;33m)\u001b[0m\u001b[1;33m)\u001b[0m\u001b[1;33m:\u001b[0m\u001b[1;33m\u001b[0m\u001b[1;33m\u001b[0m\u001b[0m\n\u001b[0;32m    321\u001b[0m         \u001b[0mN\u001b[0m \u001b[1;33m=\u001b[0m \u001b[0mint\u001b[0m\u001b[1;33m(\u001b[0m\u001b[0mlen\u001b[0m\u001b[1;33m(\u001b[0m\u001b[0mdgms\u001b[0m\u001b[1;33m[\u001b[0m\u001b[0mdim\u001b[0m\u001b[1;33m]\u001b[0m\u001b[1;33m)\u001b[0m \u001b[1;33m/\u001b[0m \u001b[1;36m2\u001b[0m\u001b[1;33m)\u001b[0m\u001b[1;33m\u001b[0m\u001b[1;33m\u001b[0m\u001b[0m\n",
      "\u001b[1;31mKeyboardInterrupt\u001b[0m: "
     ]
    }
   ],
   "source": [
    "sph_dgm_list = []\n",
    "tor_dgm_list = []\n",
    "sph_b = 100.\n",
    "sph_d = -100.\n",
    "tor_b = 100.\n",
    "tor_d = -100.\n",
    "\n",
    "for i in range(100):\n",
    "    sph_pts = sphere(n=1000)\n",
    "    sph_dgm = ripser(sph_pts)['dgms']\n",
    "    if min(sph_dgm[1],key=itemgetter(0))[0] < sph_b:\n",
    "        sph_b = min(sph_dgm[1],key=itemgetter(0))[0]\n",
    "    if max(sph_dgm[1],key=itemgetter(1))[1] > sph_d:\n",
    "        sph_d = max(sph_dgm[1],key=itemgetter(1))[1]\n",
    "    sph_dgm_list.append(sph_dgm)\n",
    "    \n",
    "    tor_pts = torus(n=1000)\n",
    "    tor_dgm = ripser(tor_pts)['dgms']\n",
    "    if min(tor_dgm[1],key=itemgetter(0))[0] < tor_b:\n",
    "        tor_b = min(tor_dgm[1],key=itemgetter(0))[0]\n",
    "    if max(tor_dgm[1],key=itemgetter(1))[1] > tor_d:\n",
    "        tor_d = max(tor_dgm[1],key=itemgetter(1))[1]\n",
    "    tor_dgm_list.append(tor_dgm)"
   ]
  },
  {
   "cell_type": "code",
   "execution_count": null,
   "metadata": {},
   "outputs": [],
   "source": []
  }
 ],
 "metadata": {
  "kernelspec": {
   "display_name": "Python 3",
   "language": "python",
   "name": "python3"
  },
  "language_info": {
   "codemirror_mode": {
    "name": "ipython",
    "version": 3
   },
   "file_extension": ".py",
   "mimetype": "text/x-python",
   "name": "python",
   "nbconvert_exporter": "python",
   "pygments_lexer": "ipython3",
   "version": "3.8.5"
  }
 },
 "nbformat": 4,
 "nbformat_minor": 2
}
