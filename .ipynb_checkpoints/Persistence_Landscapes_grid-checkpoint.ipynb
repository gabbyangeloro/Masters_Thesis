{
 "cells": [
  {
   "cell_type": "code",
   "execution_count": 1,
   "metadata": {},
   "outputs": [],
   "source": [
    "# Using Ripser\n",
    "\n",
    "import numpy as np\n",
    "from ripser import ripser\n",
    "from persim import plot_diagrams\n",
    "import operator"
   ]
  },
  {
   "cell_type": "markdown",
   "metadata": {},
   "source": [
    "## Persistence Landscapes: Algorithm 1"
   ]
  },
  {
   "cell_type": "code",
   "execution_count": 81,
   "metadata": {},
   "outputs": [
    {
     "name": "stdout",
     "output_type": "stream",
     "text": [
      "k is 0\n",
      "[[-inf, 0], [1.0, 0], [3.0, 2.0]]\n",
      "A is [[2.0, 8.0], [3.0, 4.0], [5.0, 9.0], [6.0, 7.0]]\n",
      "A is [[2.0, 8.0], [5.0, 9.0], [6.0, 7.0]]\n",
      "A is [[2.0, 8.0], [6.0, 7.0]]\n",
      "count2 is 0\n",
      "count2 is 0\n",
      "A is [[6.0, 7.0]]\n",
      "count2 is 0\n",
      "[[-inf, 0, [4.0, 1.0], [3.5, 0.5], [4.0, 0], [5.0, 0], [7.0, 2.0], [7.0, 1.0], [6.5, 0.5], [7.0, 0], [inf, 0]], [1.0, 0, [5.5, 3.5], [5.0, 3.0]], [3.0, 2.0]]\n",
      "[]\n"
     ]
    }
   ],
   "source": [
    "A = np.array([ [1.0, 5.0], [2.0, 8.0], [3.0, 4.0], [5.0, 9.0], [6.0, 7.0] ]) \n",
    "L = np.array([])\n",
    "k = 0\n",
    "\n",
    "# Sort A: read from right to left inside ()\n",
    "ind =  np.lexsort((-A[:,1], A[:,0])) \n",
    "A = A[ind]\n",
    "\n",
    "while len(A) != 0:\n",
    "    print(\"k is\",k)\n",
    "    bd, A = A[0], A[1:len(A)] \n",
    "    b, d = bd\n",
    "    L.extend([ [-np.inf, 0], [b, 0], [(b+d)/2, (d-b)/2] ] ) # outer brackets for start of L_k\n",
    "    \n",
    "    print(L)\n",
    "    # L[k] is L_k\n",
    "    while L[k][-1] != [np.inf, 0]:\n",
    "\n",
    "        # Check if d is greater than all remaining pairs\n",
    "        count1 = 0\n",
    "        for j in range(len(A)):\n",
    "            while d > A[j][1] and count1 <= len(A):\n",
    "                count1 += 1\n",
    "\n",
    "        # d is maximal if count1 was increased for each element in A\n",
    "        if count1 == len(A):\n",
    "            # add to end of L_k\n",
    "            L[k].extend([ [d,0], [np.inf, 0] ])\n",
    "\n",
    "        else:\n",
    "            # set (b', d')  to be the first term so that d' > d\n",
    "\n",
    "            # find the first such term \n",
    "            print(\"A is \" + str(A))\n",
    "            count2 = 0\n",
    "            for k in range(len(A)):\n",
    "                if A[k][1] > d:\n",
    "                    count2 += 1# count2 now indexes the next term\n",
    "                    break\n",
    "                \n",
    "                print(\"count2 is \" + str(count2))\n",
    "\n",
    "            b_prime, d_prime = A.pop(count2)\n",
    "\n",
    "            # Case I    \n",
    "            if b_prime > d:\n",
    "                L[k].extend([ [d, 0] ])\n",
    "\n",
    "            # Case II\n",
    "            if b_prime >= d:\n",
    "                L[k].extend([ [b_prime, 0] ])\n",
    "\n",
    "            # Case III\n",
    "            else:\n",
    "                L[k].extend([ [(b_prime + d)/2, (d-b_prime)/2] ]) \n",
    "\n",
    "\n",
    "            L[k].extend([ [(b_prime + d_prime)/2, (d_prime-b_prime)/2] ])  \n",
    "            b,d = b_prime, d_prime # Set (b',d')= (b, d)     \n",
    "            \n",
    "    k += 1\n",
    "    \n",
    "print(L)\n",
    "print(A)"
   ]
  },
  {
   "cell_type": "code",
   "execution_count": null,
   "metadata": {},
   "outputs": [],
   "source": []
  },
  {
   "cell_type": "code",
   "execution_count": 23,
   "metadata": {},
   "outputs": [
    {
     "data": {
      "text/plain": [
       "array([], dtype=float64)"
      ]
     },
     "execution_count": 23,
     "metadata": {},
     "output_type": "execute_result"
    }
   ],
   "source": [
    "testL = np.array([])\n",
    "testL"
   ]
  },
  {
   "cell_type": "code",
   "execution_count": 24,
   "metadata": {},
   "outputs": [
    {
     "data": {
      "text/plain": [
       "array([1., 2., 3., 4.])"
      ]
     },
     "execution_count": 24,
     "metadata": {},
     "output_type": "execute_result"
    }
   ],
   "source": [
    "R1 = np.append(testL, np.array([[1,2], [3,4]]) )\n",
    "R1"
   ]
  },
  {
   "cell_type": "code",
   "execution_count": 30,
   "metadata": {},
   "outputs": [
    {
     "data": {
      "text/plain": [
       "array([1., 2., 3., 4.])"
      ]
     },
     "execution_count": 30,
     "metadata": {},
     "output_type": "execute_result"
    }
   ],
   "source": [
    "R2 = np.concatenate((testL, np.array( [1,2]) ) )\n",
    "R3 = np.concatenate((R2, np.array( [3,4]) ) )\n",
    "R3"
   ]
  },
  {
   "cell_type": "code",
   "execution_count": null,
   "metadata": {},
   "outputs": [],
   "source": []
  },
  {
   "cell_type": "code",
   "execution_count": null,
   "metadata": {},
   "outputs": [],
   "source": []
  },
  {
   "cell_type": "code",
   "execution_count": null,
   "metadata": {},
   "outputs": [],
   "source": []
  },
  {
   "cell_type": "code",
   "execution_count": null,
   "metadata": {},
   "outputs": [],
   "source": []
  },
  {
   "cell_type": "code",
   "execution_count": 77,
   "metadata": {},
   "outputs": [
    {
     "data": {
      "text/plain": [
       "array([[1., 5.],\n",
       "       [2., 8.],\n",
       "       [3., 4.],\n",
       "       [5., 9.],\n",
       "       [6., 7.]])"
      ]
     },
     "execution_count": 77,
     "metadata": {},
     "output_type": "execute_result"
    }
   ],
   "source": [
    "A = np.array([ [1.0, 5.0], [2.0, 8.0], [3.0, 4.0], [5.0, 9.0], [6.0, 7.0] ]) \n",
    "A"
   ]
  },
  {
   "cell_type": "code",
   "execution_count": 82,
   "metadata": {},
   "outputs": [],
   "source": [
    "bd, A = A[0], A[1:len(A)]"
   ]
  },
  {
   "cell_type": "code",
   "execution_count": 83,
   "metadata": {},
   "outputs": [
    {
     "data": {
      "text/plain": [
       "(array([2., 8.]),\n",
       " array([[3., 4.],\n",
       "        [5., 9.],\n",
       "        [6., 7.]]))"
      ]
     },
     "execution_count": 83,
     "metadata": {},
     "output_type": "execute_result"
    }
   ],
   "source": [
    "bd, A"
   ]
  },
  {
   "cell_type": "code",
   "execution_count": 84,
   "metadata": {},
   "outputs": [],
   "source": [
    "b,d = bd"
   ]
  },
  {
   "cell_type": "code",
   "execution_count": 85,
   "metadata": {},
   "outputs": [
    {
     "data": {
      "text/plain": [
       "2.0"
      ]
     },
     "execution_count": 85,
     "metadata": {},
     "output_type": "execute_result"
    }
   ],
   "source": [
    "b"
   ]
  },
  {
   "cell_type": "code",
   "execution_count": 86,
   "metadata": {},
   "outputs": [
    {
     "data": {
      "text/plain": [
       "8.0"
      ]
     },
     "execution_count": 86,
     "metadata": {},
     "output_type": "execute_result"
    }
   ],
   "source": [
    "d"
   ]
  },
  {
   "cell_type": "code",
   "execution_count": null,
   "metadata": {},
   "outputs": [],
   "source": []
  },
  {
   "cell_type": "code",
   "execution_count": null,
   "metadata": {},
   "outputs": [],
   "source": []
  },
  {
   "cell_type": "code",
   "execution_count": 69,
   "metadata": {},
   "outputs": [],
   "source": [
    "A = np.array([ [2.0, 8.0], [3.0, 4.0], [5.0, 9.0], [6.0, 7.0] ]) \n",
    "A = A.tolist() # turn numpy array into list\n",
    "\n",
    "b,d = 1,5"
   ]
  },
  {
   "cell_type": "code",
   "execution_count": 73,
   "metadata": {},
   "outputs": [
    {
     "data": {
      "text/plain": [
       "[1, 1, 1, 1]"
      ]
     },
     "execution_count": 73,
     "metadata": {},
     "output_type": "execute_result"
    }
   ],
   "source": [
    "## list comprehension example\n",
    "[1 for i in range(10) if i >5]"
   ]
  },
  {
   "cell_type": "code",
   "execution_count": null,
   "metadata": {},
   "outputs": [],
   "source": [
    "bigger_than_list = [1 for i in range(len(A)) if d <= A[i][1]]\n",
    "bigger_than_list == []"
   ]
  },
  {
   "cell_type": "code",
   "execution_count": null,
   "metadata": {},
   "outputs": [],
   "source": []
  },
  {
   "cell_type": "markdown",
   "metadata": {},
   "source": [
    "### Sorting using .sort"
   ]
  },
  {
   "cell_type": "code",
   "execution_count": 2,
   "metadata": {},
   "outputs": [
    {
     "data": {
      "text/plain": [
       "array([(2., 8.), (4., 3.), (5., 9.), (6., 9.), (6., 7.), (1., 5.)],\n",
       "      dtype=[('first_coord', '<f8'), ('second_coord', '<f8')])"
      ]
     },
     "execution_count": 2,
     "metadata": {},
     "output_type": "execute_result"
    }
   ],
   "source": [
    "test1 =[  (2.0, 8.0), (4.0, 3.0), (5.0, 9.0), (6.0,9.0), (6.0, 7.0),(1.0, 5.0) ]\n",
    "dtype =[('first_coord', float), ('second_coord', float)]\n",
    "a = np.array(test1, dtype=dtype) \n",
    "a"
   ]
  },
  {
   "cell_type": "markdown",
   "metadata": {},
   "source": [
    "Sort based on first coordinate, second coordinate sorted automatically increasing"
   ]
  },
  {
   "cell_type": "code",
   "execution_count": 4,
   "metadata": {},
   "outputs": [
    {
     "data": {
      "text/plain": [
       "array([(1., 5.), (2., 8.), (4., 3.), (5., 9.), (6., 7.), (6., 9.)],\n",
       "      dtype=[('first_coord', '<f8'), ('second_coord', '<f8')])"
      ]
     },
     "execution_count": 4,
     "metadata": {},
     "output_type": "execute_result"
    }
   ],
   "source": [
    "sort1 = np.sort(a, order='first_coord')\n",
    "sort1"
   ]
  },
  {
   "cell_type": "markdown",
   "metadata": {},
   "source": [
    "Sorts both coordinates backwards"
   ]
  },
  {
   "cell_type": "code",
   "execution_count": 24,
   "metadata": {},
   "outputs": [
    {
     "data": {
      "text/plain": [
       "array([(6., 9.), (5., 9.), (2., 8.), (6., 7.), (1., 5.), (4., 3.)],\n",
       "      dtype=[('first_coord', '<f8'), ('second_coord', '<f8')])"
      ]
     },
     "execution_count": 24,
     "metadata": {},
     "output_type": "execute_result"
    }
   ],
   "source": [
    "a[:: -1].sort(order = 'second_coord')\n",
    "a"
   ]
  },
  {
   "cell_type": "code",
   "execution_count": 21,
   "metadata": {},
   "outputs": [
    {
     "data": {
      "text/plain": [
       "array([(1., 5.), (2., 8.), (4., 3.), (5., 9.), (6., 7.), (6., 9.)],\n",
       "      dtype=[('first_coord', '<f8'), ('second_coord', '<f8')])"
      ]
     },
     "execution_count": 21,
     "metadata": {},
     "output_type": "execute_result"
    }
   ],
   "source": [
    "np.sort(a, order='first_coord')"
   ]
  },
  {
   "cell_type": "code",
   "execution_count": 12,
   "metadata": {},
   "outputs": [
    {
     "data": {
      "text/plain": [
       "array([4, 4, 1, 3, 4, 3, 7, 2, 3, 6])"
      ]
     },
     "execution_count": 12,
     "metadata": {},
     "output_type": "execute_result"
    }
   ],
   "source": [
    "temp = np.random.randint(1,10, 10)  \n",
    "temp"
   ]
  },
  {
   "cell_type": "code",
   "execution_count": 14,
   "metadata": {},
   "outputs": [
    {
     "data": {
      "text/plain": [
       "array([7, 6, 4, 4, 4, 3, 3, 3, 2, 1])"
      ]
     },
     "execution_count": 14,
     "metadata": {},
     "output_type": "execute_result"
    }
   ],
   "source": [
    "temp[:: -1].sort()\n",
    "temp"
   ]
  },
  {
   "cell_type": "markdown",
   "metadata": {},
   "source": [
    "### Sorting using lexsort"
   ]
  },
  {
   "cell_type": "code",
   "execution_count": 48,
   "metadata": {},
   "outputs": [
    {
     "data": {
      "text/plain": [
       "array([[3, 2],\n",
       "       [6, 2],\n",
       "       [3, 6],\n",
       "       [3, 4],\n",
       "       [5, 3]])"
      ]
     },
     "execution_count": 48,
     "metadata": {},
     "output_type": "execute_result"
    }
   ],
   "source": [
    "a = np.array([[3, 2], [6, 2], [3, 6], [3, 4], [5, 3]])\n",
    "\n",
    "ind1 =  np.lexsort((a[:,1], a[:,0])) \n",
    "ind2 =  np.lexsort((-a[:,1], a[:,0])) \n",
    "a"
   ]
  },
  {
   "cell_type": "code",
   "execution_count": 49,
   "metadata": {},
   "outputs": [
    {
     "data": {
      "text/plain": [
       "array([[3, 2],\n",
       "       [3, 4],\n",
       "       [3, 6],\n",
       "       [5, 3],\n",
       "       [6, 2]])"
      ]
     },
     "execution_count": 49,
     "metadata": {},
     "output_type": "execute_result"
    }
   ],
   "source": [
    "a[ind1]"
   ]
  },
  {
   "cell_type": "code",
   "execution_count": 50,
   "metadata": {},
   "outputs": [
    {
     "data": {
      "text/plain": [
       "array([[3, 6],\n",
       "       [3, 4],\n",
       "       [3, 2],\n",
       "       [5, 3],\n",
       "       [6, 2]])"
      ]
     },
     "execution_count": 50,
     "metadata": {},
     "output_type": "execute_result"
    }
   ],
   "source": [
    "a[ind2]"
   ]
  },
  {
   "cell_type": "code",
   "execution_count": 51,
   "metadata": {},
   "outputs": [
    {
     "data": {
      "text/plain": [
       "array([2, 3, 0, 4, 1])"
      ]
     },
     "execution_count": 51,
     "metadata": {},
     "output_type": "execute_result"
    }
   ],
   "source": [
    "ind"
   ]
  },
  {
   "cell_type": "code",
   "execution_count": null,
   "metadata": {},
   "outputs": [],
   "source": []
  },
  {
   "cell_type": "code",
   "execution_count": null,
   "metadata": {},
   "outputs": [],
   "source": []
  },
  {
   "cell_type": "code",
   "execution_count": null,
   "metadata": {},
   "outputs": [],
   "source": []
  }
 ],
 "metadata": {
  "kernelspec": {
   "display_name": "Python 3",
   "language": "python",
   "name": "python3"
  },
  "language_info": {
   "codemirror_mode": {
    "name": "ipython",
    "version": 3
   },
   "file_extension": ".py",
   "mimetype": "text/x-python",
   "name": "python",
   "nbconvert_exporter": "python",
   "pygments_lexer": "ipython3",
   "version": "3.7.7"
  }
 },
 "nbformat": 4,
 "nbformat_minor": 4
}
