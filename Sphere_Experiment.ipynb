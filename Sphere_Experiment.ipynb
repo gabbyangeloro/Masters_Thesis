{
 "cells": [
  {
   "cell_type": "markdown",
   "metadata": {},
   "source": [
    "## Experiemnt: $S^2$ vs. $S^3$ "
   ]
  },
  {
   "cell_type": "markdown",
   "metadata": {},
   "source": [
    "This notebook executes an experiemnt to see if persistence landscapes can tell the difference between a sphere in dimension 2 and 3."
   ]
  },
  {
   "cell_type": "code",
   "execution_count": 38,
   "metadata": {},
   "outputs": [],
   "source": [
    "import numpy as np\n",
    "import random\n",
    "\n",
    "from tadasets import dsphere\n",
    "\n",
    "from ripser import ripser\n",
    "from PersistenceLandscapeExact import PersistenceLandscapeExact\n",
    "from auxiliary import linear_combination\n",
    "from visualization import plot_landscape_exact\n",
    "\n",
    "from sklearn import preprocessing"
   ]
  },
  {
   "cell_type": "markdown",
   "metadata": {},
   "source": [
    " Sample 100 points from $S^2$ and $S^3$, 100 times and normalize"
   ]
  },
  {
   "cell_type": "code",
   "execution_count": 47,
   "metadata": {},
   "outputs": [],
   "source": [
    "# sph2: list of 100 runs of sampling S2\n",
    "sph2 = []\n",
    "for i in range(100):\n",
    "    sph2.append( preprocessing.scale(dsphere(n=100, d=2, r=1)) ) #preprocessing.scale to normalize samples\n",
    "\n",
    "# sph3: list of 100 runs of sampling S3\n",
    "sph3 = []\n",
    "for i in range(100):\n",
    "    sph3.append( preprocessing.scale(dsphere(n=100, d=3, r=1)) )"
   ]
  },
  {
   "cell_type": "markdown",
   "metadata": {},
   "source": [
    "Compute persistence diagram for each sphere"
   ]
  },
  {
   "cell_type": "code",
   "execution_count": 48,
   "metadata": {},
   "outputs": [],
   "source": [
    "#sph2_dgm: list of 100 diagrams for 100 sampled points on S2\n",
    "sph2_dgm = [ripser(sphere, maxdim=2)['dgms'] for sphere in sph2]\n",
    "\n",
    "\n",
    "#sph3_dgm: list of 100 diagrams for 100 sampled points on S3\n",
    "sph3_dgm = [ripser(sphere, maxdim=2)['dgms']for sphere in sph3]"
   ]
  },
  {
   "cell_type": "markdown",
   "metadata": {},
   "source": [
    "Compute persistence landscape for each sphere for dimension 1 and 2"
   ]
  },
  {
   "cell_type": "code",
   "execution_count": 49,
   "metadata": {},
   "outputs": [],
   "source": [
    "#sph2_PL1, sph2_PL2: list of 100 landscapes for 100 sampled points on S3 in degree 1 and 2 \n",
    "sph2_PL1 = [PersistenceLandscapeExact(dgms=diagram , hom_deg=0, compute=True) \n",
    "            for diagram in sph2_dgm]\n",
    "sph2_PL2 = [PersistenceLandscapeExact(dgms=diagram , hom_deg=0, compute=True) \n",
    "            for diagram in sph2_dgm]\n",
    "\n",
    "#sph3_PL1, sph3_PL2: list of 100 landscapes for 100 sampled points on S3 in degree 1 and 2 \n",
    "sph3_PL1 = [PersistenceLandscapeExact(dgms=diagram , hom_deg=0, compute=True) \n",
    "            for diagram in sph3_dgm]\n",
    "sph3_PL2 = [PersistenceLandscapeExact(dgms=diagram , hom_deg=0, compute=True) \n",
    "            for diagram in sph3_dgm]"
   ]
  },
  {
   "cell_type": "markdown",
   "metadata": {},
   "source": [
    "Average the 100 landscapes for $S^2$ and $S^3$ in dimension 1 and 2"
   ]
  },
  {
   "cell_type": "code",
   "execution_count": 50,
   "metadata": {},
   "outputs": [],
   "source": [
    "#avg2_hom1, avg2_hom2: average landscape for the 100 samples of S2 in degree 1 and 2 \n",
    "avg2_hom1 = linear_combination(sph2_PL1,100*[1/100])\n",
    "avg2_hom2 = linear_combination(sph2_PL2,100*[1/100])\n",
    "\n",
    "#avg3_hom1, avg3_hom2: average landscape for the 100 samples of S3 in degree 1 and 2 \n",
    "avg3_hom1 = linear_combination(sph3_PL1,100*[1/100])\n",
    "avg3_hom2 = linear_combination(sph3_PL2,100*[1/100])"
   ]
  },
  {
   "cell_type": "markdown",
   "metadata": {},
   "source": [
    "Compute the difference in sup norms between the average landscape of $S^2$ and $S^3$ in dimension 1 and 2"
   ]
  },
  {
   "cell_type": "code",
   "execution_count": 51,
   "metadata": {},
   "outputs": [],
   "source": [
    "#diff_hom1, diff_hom2: difference between average landscapes in degree 1 and 2 of S2 and S3\n",
    "true_diff_hom1 = (avg2_hom1 - avg3_hom1).sup_norm()\n",
    "true_diff_hom2 = (avg2_hom2 - avg3_hom2).sup_norm()"
   ]
  },
  {
   "cell_type": "markdown",
   "metadata": {},
   "source": [
    "Plot average landscape in degree 1 for S2 and S3 and difference between them "
   ]
  },
  {
   "cell_type": "code",
   "execution_count": null,
   "metadata": {},
   "outputs": [],
   "source": [
    "# plot avg S^2\n",
    "plot_landscape_exact(avg2_hom1, title='Average landscape in degree 1 for $S^2$');"
   ]
  },
  {
   "cell_type": "code",
   "execution_count": null,
   "metadata": {},
   "outputs": [],
   "source": [
    "# plot avg S^3\n",
    "plot_landscape_exact(avg3_hom1, title='Average landscape in degree 1 for $S^3$')"
   ]
  },
  {
   "cell_type": "code",
   "execution_count": null,
   "metadata": {},
   "outputs": [],
   "source": [
    "# plot diff\n",
    "plot_landscape_exact(true_diff_hom_1, title='Difference of average landscapes in degree 1 for $S^2$ and $S^3$')"
   ]
  },
  {
   "cell_type": "markdown",
   "metadata": {},
   "source": [
    "### Run permutation test for homological degree 1"
   ]
  },
  {
   "cell_type": "code",
   "execution_count": 52,
   "metadata": {},
   "outputs": [
    {
     "name": "stdout",
     "output_type": "stream",
     "text": [
      "0 of the relabeled persistence landscapes had difference more extreme than the true differnce\n"
     ]
    }
   ],
   "source": [
    "#PL1: persistence landscapes in degree 1 from S2 and S3\n",
    "PL1 = []\n",
    "PL1.extend(sph2_PL1)\n",
    "PL1.extend(sph3_PL1)\n",
    "PL1 = np.array(PL1) #cast as array in order to index with a list\n",
    "\n",
    "\n",
    "for run in range(100):\n",
    "    # shuffle labels for 200 landscapes\n",
    "    A_indices = random.sample(range(100), 50)\n",
    "    B_indices = [_ for _ in range(100) if _ not in A_indices]\n",
    "    A_PL1 = PL1[A_indices]\n",
    "    B_PL1 = PL1[B_indices]\n",
    "    \n",
    "    # take average of landscape with label A and label B resp.\n",
    "    avg_A_PL1 = linear_combination(A_PL1,100*[1/100])\n",
    "    avg_B_PL1 = linear_combination(B_PL1,100*[1/100])\n",
    "    \n",
    "    shuffled_diff_hom1 = (avg_A_PL1 - avg_B_PL1).sup_norm() #compute shuffled diff\n",
    "    \n",
    "    # count differences more extreme than true diff\n",
    "    more_extreme = 0\n",
    "    if np.abs(shuffled_diff_hom1) > np.abs(true_diff_hom1):\n",
    "        more_extreme += 1\n",
    "\n",
    "print(f'{more_extreme} of the relabeled persistence landscapes'\n",
    "      'had difference more extreme than the true differnce')"
   ]
  },
  {
   "cell_type": "markdown",
   "metadata": {},
   "source": [
    "### Run permutation test for homological degree 2"
   ]
  },
  {
   "cell_type": "code",
   "execution_count": 60,
   "metadata": {},
   "outputs": [
    {
     "name": "stdout",
     "output_type": "stream",
     "text": [
      "0 of the relabeled persistence landscapes had difference more extreme than the true differnce\n"
     ]
    }
   ],
   "source": [
    "#PL2: persistence landscapes in degree 1 from S2 and S3\n",
    "PL2 = []\n",
    "PL2.extend(sph2_PL2)\n",
    "PL2.extend(sph3_PL2)\n",
    "PL2 = np.array(PL2) #cast as array in order to index with a list\n",
    "\n",
    "\n",
    "for run in range(100):\n",
    "    # shuffle labels for 200 landscapes\n",
    "    A_indices = random.sample(range(100), 50)\n",
    "    B_indices = [_ for _ in range(100) if _ not in A_indices]\n",
    "    A_PL2 = PL2[A_indices]\n",
    "    B_PL2 = PL2[B_indices]\n",
    "    \n",
    "    # take average of landscape with label A and label B resp.\n",
    "    avg_A_PL2 = linear_combination(A_PL2,100*[1/100])\n",
    "    avg_B_PL2 = linear_combination(B_PL2,100*[1/100])\n",
    "    \n",
    "    shuffled_diff_hom2 = (avg_A_PL2 - avg_B_PL2).sup_norm() #compute shuffled diff\n",
    "    \n",
    "    # count differences more extreme than true diff\n",
    "    more_extreme = 0\n",
    "    if np.abs(shuffled_diff_hom2) > np.abs(true_diff_hom2):\n",
    "        more_extreme += 1\n",
    "\n",
    "print(f'{more_extreme} of the relabeled persistence landscapes'\n",
    "      'had difference more extreme than the true differnce')"
   ]
  }
 ],
 "metadata": {
  "kernelspec": {
   "display_name": "Python 3",
   "language": "python",
   "name": "python3"
  },
  "language_info": {
   "codemirror_mode": {
    "name": "ipython",
    "version": 3
   },
   "file_extension": ".py",
   "mimetype": "text/x-python",
   "name": "python",
   "nbconvert_exporter": "python",
   "pygments_lexer": "ipython3",
   "version": "3.7.7"
  }
 },
 "nbformat": 4,
 "nbformat_minor": 4
}
