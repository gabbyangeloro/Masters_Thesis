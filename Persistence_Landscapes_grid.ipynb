{
 "cells": [
  {
   "cell_type": "code",
   "execution_count": 1,
   "metadata": {},
   "outputs": [],
   "source": [
    "# Using Ripser\n",
    "\n",
    "import numpy as np\n",
    "from ripser import ripser\n",
    "from persim import plot_diagrams\n",
    "import operator"
   ]
  },
  {
   "cell_type": "markdown",
   "metadata": {},
   "source": [
    "## Persistence Landscapes: Algorithm 1"
   ]
  },
  {
   "cell_type": "code",
   "execution_count": 81,
   "metadata": {},
   "outputs": [
    {
     "name": "stdout",
     "output_type": "stream",
     "text": [
      "k is 0\n",
      "[[-inf, 0], [1.0, 0], [3.0, 2.0]]\n",
      "A is [[2.0, 8.0], [3.0, 4.0], [5.0, 9.0], [6.0, 7.0]]\n",
      "A is [[2.0, 8.0], [5.0, 9.0], [6.0, 7.0]]\n",
      "A is [[2.0, 8.0], [6.0, 7.0]]\n",
      "count2 is 0\n",
      "count2 is 0\n",
      "A is [[6.0, 7.0]]\n",
      "count2 is 0\n",
      "[[-inf, 0, [4.0, 1.0], [3.5, 0.5], [4.0, 0], [5.0, 0], [7.0, 2.0], [7.0, 1.0], [6.5, 0.5], [7.0, 0], [inf, 0]], [1.0, 0, [5.5, 3.5], [5.0, 3.0]], [3.0, 2.0]]\n",
      "[]\n"
     ]
    }
   ],
   "source": [
    "A = np.array([ [1.0, 5.0], [2.0, 8.0], [3.0, 4.0], [5.0, 9.0], [6.0, 7.0] ]) \n",
    "A = A.tolist() # turn numpy array into list\n",
    "L = []\n",
    "k = 0\n",
    "\n",
    "while len(A) != 0:\n",
    "    print(\"k is\",k)\n",
    "    b, d = A.pop(0)\n",
    "    L.extend([ [-np.inf, 0], [b, 0], [(b+d)/2, (d-b)/2] ] ) # outer brackets for start of L_k\n",
    "    \n",
    "    print(L)\n",
    "    # L[k] is L_k\n",
    "    while L[k][-1] != [np.inf, 0]:\n",
    "\n",
    "        # Check if d is greater than all remaining pairs\n",
    "        count1 = 0\n",
    "        for j in range(len(A)):\n",
    "            while d > A[j][1] and count1 <= len(A):\n",
    "                count1 += 1\n",
    "\n",
    "        # d is maximal if count1 was increased for each element in A\n",
    "        if count1 == len(A):\n",
    "            # add to end of L_k\n",
    "            L[k].extend([ [d,0], [np.inf, 0] ])\n",
    "\n",
    "        else:\n",
    "            # set (b', d')  to be the first term so that d' > d\n",
    "\n",
    "            # find the first such term \n",
    "            print(\"A is \" + str(A))\n",
    "            count2 = 0\n",
    "            for k in range(len(A)):\n",
    "                if A[k][1] > d:\n",
    "                    count2 += 1# count2 now indexes the next term\n",
    "                    break\n",
    "                \n",
    "                print(\"count2 is \" + str(count2))\n",
    "\n",
    "            b_prime, d_prime = A.pop(count2)\n",
    "\n",
    "            # Case I    \n",
    "            if b_prime > d:\n",
    "                L[k].extend([ [d, 0] ])\n",
    "\n",
    "            # Case II\n",
    "            if b_prime >= d:\n",
    "                L[k].extend([ [b_prime, 0] ])\n",
    "\n",
    "            # Case III\n",
    "            else:\n",
    "                L[k].extend([ [(b_prime + d)/2, (d-b_prime)/2] ]) \n",
    "\n",
    "\n",
    "            L[k].extend([ [(b_prime + d_prime)/2, (d_prime-b_prime)/2] ])  \n",
    "            b,d = b_prime, d_prime # Set (b',d')= (b, d)     \n",
    "            \n",
    "    k += 1\n",
    "    \n",
    "print(L)\n",
    "print(A)"
   ]
  },
  {
   "cell_type": "code",
   "execution_count": null,
   "metadata": {},
   "outputs": [],
   "source": []
  },
  {
   "cell_type": "code",
   "execution_count": 69,
   "metadata": {},
   "outputs": [],
   "source": [
    "A = np.array([ [2.0, 8.0], [3.0, 4.0], [5.0, 9.0], [6.0, 7.0] ]) \n",
    "A = A.tolist() # turn numpy array into list\n",
    "\n",
    "b,d = 1,5"
   ]
  },
  {
   "cell_type": "code",
   "execution_count": 73,
   "metadata": {},
   "outputs": [
    {
     "data": {
      "text/plain": [
       "[1, 1, 1, 1]"
      ]
     },
     "execution_count": 73,
     "metadata": {},
     "output_type": "execute_result"
    }
   ],
   "source": [
    "## list comprehension example\n",
    "[1 for i in range(10) if i >5]"
   ]
  },
  {
   "cell_type": "code",
   "execution_count": null,
   "metadata": {},
   "outputs": [],
   "source": [
    "bigger_than_list = [1 for i in range(len(A)) if d <= A[i][1]]\n",
    "bigger_than_list == []"
   ]
  },
  {
   "cell_type": "code",
   "execution_count": null,
   "metadata": {},
   "outputs": [],
   "source": []
  },
  {
   "cell_type": "code",
   "execution_count": null,
   "metadata": {},
   "outputs": [],
   "source": []
  },
  {
   "cell_type": "code",
   "execution_count": 68,
   "metadata": {},
   "outputs": [
    {
     "data": {
      "text/plain": [
       "[[1.0, 5.0], [2, 3], [2.0, 8.0], [3.0, 4.0], [5.0, 9.0], [6.0, 7.0]]"
      ]
     },
     "execution_count": 68,
     "metadata": {},
     "output_type": "execute_result"
    }
   ],
   "source": [
    "test1 =[ [1.0, 5.0], [2.0, 8.0], [3.0, 4.0], [5.0, 9.0], [6.0, 7.0]  ]\n",
    "test1.insert(1, [2,3])\n",
    "test1"
   ]
  },
  {
   "cell_type": "code",
   "execution_count": null,
   "metadata": {},
   "outputs": [],
   "source": []
  }
 ],
 "metadata": {
  "kernelspec": {
   "display_name": "Python 3",
   "language": "python",
   "name": "python3"
  },
  "language_info": {
   "codemirror_mode": {
    "name": "ipython",
    "version": 3
   },
   "file_extension": ".py",
   "mimetype": "text/x-python",
   "name": "python",
   "nbconvert_exporter": "python",
   "pygments_lexer": "ipython3",
   "version": "3.7.7"
  }
 },
 "nbformat": 4,
 "nbformat_minor": 4
}
